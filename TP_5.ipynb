{
 "cells": [
  {
   "cell_type": "markdown",
   "id": "QYZn2ujP9tcA",
   "metadata": {
    "id": "QYZn2ujP9tcA"
   },
   "source": [
    "\n",
    "\n",
    "### <center> <b> <span style=\"color:blue;\"> Travaux Pratiques: Fonctions</span> </b></center>\n",
    "\n"
   ]
  },
  {
   "cell_type": "markdown",
   "id": "iMDzVKcl9tcE",
   "metadata": {
    "id": "iMDzVKcl9tcE"
   },
   "source": [
    "#### **Exercice 00:**  \n",
    "> **Écrire une fonction `cube` qui retourne le cube de son argument.**"
   ]
  },
  {
   "cell_type": "code",
   "execution_count": 35,
   "id": "7db9ab99",
   "metadata": {},
   "outputs": [
    {
     "data": {
      "text/plain": [
       "343"
      ]
     },
     "execution_count": 35,
     "metadata": {},
     "output_type": "execute_result"
    }
   ],
   "source": [
    "def cube(x):\n",
    "    \"Calcul de x à la puissance 3\"\n",
    "    return x**3\n",
    "cube(7)"
   ]
  },
  {
   "cell_type": "code",
   "execution_count": null,
   "id": "09cbf3b1",
   "metadata": {},
   "outputs": [],
   "source": []
  },
  {
   "cell_type": "markdown",
   "id": "m1ac89qS9tcH",
   "metadata": {
    "id": "m1ac89qS9tcH"
   },
   "source": [
    "#### **Exercice 01:**  \n",
    "> **Déclarez une fonction `ajouter_deux_nombres`. Elle prend deux paramètres et renvoie leur somme.**"
   ]
  },
  {
   "cell_type": "code",
   "execution_count": 37,
   "id": "E_AgGmNy9tcH",
   "metadata": {
    "id": "E_AgGmNy9tcH"
   },
   "outputs": [],
   "source": [
    "def ajouter_deux_nombres(x, y) :\n",
    "    \"Calcul de la somme de x et y\"\n",
    "    return x+y"
   ]
  },
  {
   "cell_type": "code",
   "execution_count": 39,
   "id": "cbaf04e1",
   "metadata": {},
   "outputs": [
    {
     "data": {
      "text/plain": [
       "1"
      ]
     },
     "execution_count": 39,
     "metadata": {},
     "output_type": "execute_result"
    }
   ],
   "source": [
    "ajouter_deux_nombres(2,-1)"
   ]
  },
  {
   "cell_type": "markdown",
   "id": "PKjvAV4y9tcJ",
   "metadata": {
    "id": "PKjvAV4y9tcJ"
   },
   "source": [
    "#### **Exercice 02:**  \n",
    "> **L'aire d'un cercle se calcule comme suit : aire = pi x r x r avec pi=3,14. Écrivez une fonction `aire_du_cercle` qui prend le rayon en argument et calcule l'aire du cercle correspodant.**"
   ]
  },
  {
   "cell_type": "code",
   "execution_count": 40,
   "id": "AxGzHKXX9tcL",
   "metadata": {
    "id": "AxGzHKXX9tcL"
   },
   "outputs": [],
   "source": [
    "def aire_du_cercle(r) :\n",
    "        pi = 3.14\n",
    "        \"Affichage de aire du cercle\"\n",
    "        return pi*r*r \n"
   ]
  },
  {
   "cell_type": "code",
   "execution_count": 44,
   "id": "29a6204e",
   "metadata": {},
   "outputs": [
    {
     "data": {
      "text/plain": [
       "113.03999999999999"
      ]
     },
     "execution_count": 44,
     "metadata": {},
     "output_type": "execute_result"
    }
   ],
   "source": [
    "aire_du_cercle(6)"
   ]
  },
  {
   "cell_type": "markdown",
   "id": "6OBRL3oj9tcL",
   "metadata": {
    "id": "6OBRL3oj9tcL"
   },
   "source": [
    "#### **Exercice 03:**  \n",
    "> **La température en °C peut être convertie en °F à l'aide de cette formule : °F = (°C x 9/5) + 32. Écrivez une fonction `convert_celsius_en_fahrenheit` qui convertit les °C en °F**."
   ]
  },
  {
   "cell_type": "code",
   "execution_count": 32,
   "id": "LpDPEBxn9tcN",
   "metadata": {
    "colab": {
     "base_uri": "https://localhost:8080/"
    },
    "id": "LpDPEBxn9tcN",
    "outputId": "7c62c4a2-828a-4eea-e995-a89e3acda0ed"
   },
   "outputs": [
    {
     "name": "stdout",
     "output_type": "stream",
     "text": [
      "Enter the value in celsius 25\n",
      "77.0\n"
     ]
    }
   ],
   "source": [
    "C=float(input('Enter the value in celsius '))\n",
    "def convert_celsuis_en_fahrenheit(C):\n",
    "    F=(C*9/5)+32\n",
    "    return F\n",
    "C\n",
    "print(convert_celsuis_en_fahrenheit(C))\n"
   ]
  },
  {
   "cell_type": "markdown",
   "id": "rJRPsZ2h9tcP",
   "metadata": {
    "id": "rJRPsZ2h9tcP"
   },
   "source": [
    "#### **Exercice 04:** \n",
    ">**Écrire une fonction somme avec un argument « tuple de longueur variable » qui calcule la somme des nombres contenus dans le tuple.Tester cette fonction par des appels avec différents tuples d’entiers ou de flottants.**"
   ]
  },
  {
   "cell_type": "code",
   "execution_count": 46,
   "id": "7qn8Czdc9tcP",
   "metadata": {
    "colab": {
     "base_uri": "https://localhost:8080/"
    },
    "id": "7qn8Czdc9tcP",
    "outputId": "998d9d34-3e4c-4a64-f02e-9faa0ff36abe"
   },
   "outputs": [
    {
     "data": {
      "text/plain": [
       "19"
      ]
     },
     "execution_count": 46,
     "metadata": {},
     "output_type": "execute_result"
    }
   ],
   "source": [
    "def somme(tuple) :\n",
    "    a = 0\n",
    "    som = 0\n",
    "    \"Boucle de parcour du tuple\"\n",
    "    while a < len(tuple) :\n",
    "        som = som + tuple[a]\n",
    "        a = a + 1\n",
    "    return som \n",
    "somme((1,5,8,2,3))"
   ]
  },
  {
   "cell_type": "code",
   "execution_count": null,
   "id": "f3f90d34",
   "metadata": {},
   "outputs": [],
   "source": []
  },
  {
   "cell_type": "markdown",
   "id": "kls1kYNh9tcR",
   "metadata": {
    "id": "kls1kYNh9tcR"
   },
   "source": [
    "#### **Exercice 05:** \n",
    ">**Ecrire `somme_liste` qui calcule la somme des nombres contenus dans une liste.Tester cette fonction par des appels avec différents listes d’entiers ou de flottants.**"
   ]
  },
  {
   "cell_type": "code",
   "execution_count": 47,
   "id": "072d12b9",
   "metadata": {},
   "outputs": [
    {
     "data": {
      "text/plain": [
       "13"
      ]
     },
     "execution_count": 47,
     "metadata": {},
     "output_type": "execute_result"
    }
   ],
   "source": [
    "def somme_liste(list) :\n",
    "    a = 0\n",
    "    som = 0\n",
    "    \"Boucle de parcour de la liste\"\n",
    "    while a < len(list) :\n",
    "        som = som + list[a]\n",
    "        a = a + 1\n",
    "    return som\n",
    "somme_liste([1,5,3,4])"
   ]
  },
  {
   "cell_type": "code",
   "execution_count": null,
   "id": "5bba0d9e",
   "metadata": {},
   "outputs": [],
   "source": []
  },
  {
   "cell_type": "markdown",
   "id": "f938adfe",
   "metadata": {
    "id": "l4gQECfk9tcS"
   },
   "source": [
    "#### **Exercice 06:**\n",
    ">**Écrire une fonction somme qui  prend en argument un entier $n$ et retourne la somme  des $n$-prémiers entiers naturels.**"
   ]
  },
  {
   "cell_type": "code",
   "execution_count": 58,
   "id": "eb166036",
   "metadata": {},
   "outputs": [
    {
     "data": {
      "text/plain": [
       "15"
      ]
     },
     "execution_count": 58,
     "metadata": {},
     "output_type": "execute_result"
    }
   ],
   "source": [
    "def somme_premier(n) :\n",
    "    i=0\n",
    "    som=0\n",
    "    while i < (int(n)+1): \n",
    "        som = som + i\n",
    "        i=i+1\n",
    "    return som\n",
    "somme_premier(5)"
   ]
  },
  {
   "cell_type": "code",
   "execution_count": null,
   "id": "9227a61a",
   "metadata": {},
   "outputs": [],
   "source": []
  },
  {
   "cell_type": "markdown",
   "id": "tK9EsjZf9tcU",
   "metadata": {
    "id": "tK9EsjZf9tcU"
   },
   "source": [
    "#### **Exercice 07:** \n",
    ">**Écrire une fonction `nom` qui demande à l'utilisateur d'entrer son nom ensuite son prénom et affiche son prénom suivit de son nom.**"
   ]
  },
  {
   "cell_type": "code",
   "execution_count": 59,
   "id": "d3ef6f88",
   "metadata": {},
   "outputs": [
    {
     "data": {
      "text/plain": [
       "'Esther DJOI'"
      ]
     },
     "execution_count": 59,
     "metadata": {},
     "output_type": "execute_result"
    }
   ],
   "source": [
    "def nom (nom, prenom) : \n",
    "    return prenom + \" \" +nom\n",
    "nom(\"DJOI\", \"Esther\")"
   ]
  },
  {
   "cell_type": "code",
   "execution_count": null,
   "id": "8980d9d8",
   "metadata": {},
   "outputs": [],
   "source": []
  },
  {
   "cell_type": "markdown",
   "id": "YSwrwcEz9tcX",
   "metadata": {
    "id": "YSwrwcEz9tcX"
   },
   "source": [
    "#### **Exercice 08:** \n",
    ">**Écrire une fonction `nom` qui demande à l'utilisateur d'entrer son nom ensuite son prénom et affiche son prénom suivit de son nom.**"
   ]
  },
  {
   "cell_type": "code",
   "execution_count": null,
   "id": "mRk-8h1P9tcZ",
   "metadata": {
    "id": "mRk-8h1P9tcZ"
   },
   "outputs": [],
   "source": [
    "def nom (nom, prenom) : \n",
    "    return prenom + \" \" +nom\n",
    "nom(\"BENI\", \"Consolée\")"
   ]
  },
  {
   "cell_type": "markdown",
   "id": "VYtzHXAd9tck",
   "metadata": {
    "id": "VYtzHXAd9tck"
   },
   "source": [
    "#### **Exercice 09:** \n",
    ">**Ecris une fonction `Maximum` qui renvoie le minimum de trois nombres.**"
   ]
  },
  {
   "cell_type": "code",
   "execution_count": 77,
   "id": "2123c756",
   "metadata": {},
   "outputs": [
    {
     "data": {
      "text/plain": [
       "-5"
      ]
     },
     "execution_count": 77,
     "metadata": {},
     "output_type": "execute_result"
    }
   ],
   "source": [
    "def Maximun(x,y,z) :\n",
    "    return min(x,y,z)\n",
    "Maximun(1,2,-5)"
   ]
  },
  {
   "cell_type": "code",
   "execution_count": null,
   "id": "4d830a01",
   "metadata": {},
   "outputs": [],
   "source": []
  },
  {
   "cell_type": "markdown",
   "id": "gTpTAnGm9tcm",
   "metadata": {
    "id": "gTpTAnGm9tcm"
   },
   "source": [
    "#### **Exercice 10:**\n",
    ">**Soit $f(x)=ax^2+bx+c$ un trinôme du second degré.**\n",
    " 1. **Ecris une fonction `Discriminant` qui calcule son discriminant.**\n",
    " 2. **Ecris ensuite une fonction `existence_des_racines_du_trinome` qui discute suivant les valeurs du discriminant, l'existence de ses racines.** \n"
   ]
  },
  {
   "cell_type": "code",
   "execution_count": null,
   "id": "299b0034",
   "metadata": {},
   "outputs": [],
   "source": [
    "def Discriminant(a,b,c):\n",
    "    \"Calcul de discriminant\"\n",
    "    return (b*b)-(4*a*c)\n",
    "def existence_des_racines_du_trinome(a,b,c):\n",
    "    \"Vérification des valeurs du discriminant\"\n",
    "    discriminant = Discriminant(a,b,c)\n",
    "    if discriminant > 0:\n",
    "        print(\"L'équation admet deux solutions\")\n",
    "    elif discriminant<0:\n",
    "        print(\"L'équation n'admet pas de solution\")   \n",
    "    elif discriminant==0:\n",
    "        print(\"L'équation admet une solution unique\")\n",
    "    \n",
    "existence_des_racines_du_trinome(1,4,3)"
   ]
  },
  {
   "cell_type": "markdown",
   "id": "e8727245",
   "metadata": {
    "id": "WgJ06GHA9tcn"
   },
   "source": [
    "#### **Exercice 11:**\n",
    ">**Ecris une fonction qui affiche le reste de la division euclidienne d'un entier naturel $a$ par un entier naturel $b$**.\n"
   ]
  },
  {
   "cell_type": "code",
   "execution_count": 3,
   "id": "S1uM-Jca9tcn",
   "metadata": {
    "id": "S1uM-Jca9tcn"
   },
   "outputs": [
    {
     "data": {
      "text/plain": [
       "1"
      ]
     },
     "execution_count": 3,
     "metadata": {},
     "output_type": "execute_result"
    }
   ],
   "source": [
    "def affiche_reste(a,b):\n",
    "    q=int(a/b)\n",
    "    return a-b*q\n",
    "affiche_reste(21,5)  \n",
    "\n",
    "    "
   ]
  },
  {
   "cell_type": "code",
   "execution_count": null,
   "id": "61e7925f",
   "metadata": {},
   "outputs": [],
   "source": []
  },
  {
   "cell_type": "markdown",
   "id": "dtC_cOVJ9tco",
   "metadata": {
    "id": "dtC_cOVJ9tco"
   },
   "source": [
    "#### **Exercice 12:**\n",
    ">**Ecris une fonction `terme_suite_geometrique` qui affiche le n-ième terme d'une suite géométrique $(v_n)$ de premier terme $v_0$ et de raison $q$. Teste ce programme pour $v_0=2, q=3$ et $n=4$.**"
   ]
  },
  {
   "cell_type": "code",
   "execution_count": 12,
   "id": "TeLDRV8N9tco",
   "metadata": {
    "id": "TeLDRV8N9tco"
   },
   "outputs": [
    {
     "data": {
      "text/plain": [
       "162"
      ]
     },
     "execution_count": 12,
     "metadata": {},
     "output_type": "execute_result"
    }
   ],
   "source": [
    "def terme_suite_geometrique (v0,q,n):\n",
    "    return v0*q**n\n",
    "terme_suite_geometrique(2,3,4)"
   ]
  },
  {
   "cell_type": "markdown",
   "id": "GrmGuHwu9tco",
   "metadata": {
    "id": "GrmGuHwu9tco"
   },
   "source": [
    "#### **Exercice 13:**\n",
    ">**Écris une fonction `merci` prend en paramètre un `nom` et renvoie le message \"Merci pour votre présence à cet atelier,`nom`.**\n"
   ]
  },
  {
   "cell_type": "code",
   "execution_count": 20,
   "id": "8bd87618",
   "metadata": {},
   "outputs": [
    {
     "data": {
      "text/plain": [
       "'Merci pour votre presence Roland'"
      ]
     },
     "execution_count": 20,
     "metadata": {},
     "output_type": "execute_result"
    }
   ],
   "source": [
    "def merci(nom):\n",
    "    return \"Merci pour votre presence\" +\" \" + nom\n",
    "merci('Roland')"
   ]
  },
  {
   "cell_type": "markdown",
   "id": "T3jopRLc9tco",
   "metadata": {
    "id": "T3jopRLc9tco"
   },
   "source": [
    "#### **Exercice 14:**\n",
    ">**Écris une fonction `ma_suite` qui définit la suite $(u_n)$ telle que  $$u_{n}=\\frac{2n^2+3n-1}{n+6}.$$\n",
    "Affiche son 5e terme.**\n"
   ]
  },
  {
   "cell_type": "code",
   "execution_count": 16,
   "id": "P1l82riw9tcp",
   "metadata": {
    "id": "P1l82riw9tcp"
   },
   "outputs": [
    {
     "data": {
      "text/plain": [
       "6.4"
      ]
     },
     "execution_count": 16,
     "metadata": {},
     "output_type": "execute_result"
    }
   ],
   "source": [
    "def ma_suite(n):\n",
    "    return (2*n**2 +3*n-1)/(n+5)\n",
    "ma_suite(5)    "
   ]
  },
  {
   "cell_type": "markdown",
   "id": "SIizzU_A9tcp",
   "metadata": {
    "id": "SIizzU_A9tcp"
   },
   "source": [
    "\n",
    "\n",
    "<center> <b> <span style=\"color:orange;\"> 🎉 FÉLICITATIONS ! 🎉 </span> </b></center>"
   ]
  }
 ],
 "metadata": {
  "colab": {
   "collapsed_sections": [],
   "name": "In2Py_TP_05.ipynb",
   "provenance": []
  },
  "kernelspec": {
   "display_name": "Python 3 (ipykernel)",
   "language": "python",
   "name": "python3"
  },
  "language_info": {
   "codemirror_mode": {
    "name": "ipython",
    "version": 3
   },
   "file_extension": ".py",
   "mimetype": "text/x-python",
   "name": "python",
   "nbconvert_exporter": "python",
   "pygments_lexer": "ipython3",
   "version": "3.8.10"
  }
 },
 "nbformat": 4,
 "nbformat_minor": 5
}
