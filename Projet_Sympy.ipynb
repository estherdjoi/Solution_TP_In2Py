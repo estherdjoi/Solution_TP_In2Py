{
 "cells": [
  {
   "cell_type": "raw",
   "id": "24569d84",
   "metadata": {},
   "source": []
  },
  {
   "cell_type": "markdown",
   "id": "63617ec0",
   "metadata": {},
   "source": [
    "# 1-Q'est ce que le calcul symbolique \n",
    "Le calcul symbolique traite du calcul d'objet mathématique abstrait. C ela signifie que les objets matématiques sont réprésentées exactement, et non pas approximativement, et que les expressions mathématiques avec des variables non évaluées sont laissées sous forme symbolique.\n",
    " Exemple: "
   ]
  },
  {
   "cell_type": "code",
   "execution_count": 51,
   "id": "407f5ac0",
   "metadata": {},
   "outputs": [
    {
     "data": {
      "text/plain": [
       "2.8284271247461903"
      ]
     },
     "execution_count": 51,
     "metadata": {},
     "output_type": "execute_result"
    }
   ],
   "source": [
    "from math import sqrt\n",
    "sqrt(8)"
   ]
  },
  {
   "cell_type": "code",
   "execution_count": 7,
   "id": "b776af3f",
   "metadata": {},
   "outputs": [
    {
     "name": "stdout",
     "output_type": "stream",
     "text": [
      "2*sqrt(2)\n"
     ]
    }
   ],
   "source": [
    "import sympy\n",
    "num = sympy.sqrt(8)\n",
    "print(num)"
   ]
  },
  {
   "cell_type": "raw",
   "id": "c50257db",
   "metadata": {},
   "source": [
    "Avec un système de calcul symbolique comme sympy, les racines carrées de nombres qui ne sont pas des carrés parfaits ne sont pas évaluées de manière approchée par défaut mais sont affichées avec leur valeur exacte.\n",
    "la véritable puissance d'un système de calcul symbolique tel que sympy réside dans sa capacité à pouvoir effectuer toutes sortes de calculs en manipulant des expressions littérales. Sympy peut simplifier les expressions, calculer les dérivées, les intégrales et les limites, résoudres des équations y compris différentielles, travailler avec des matrices et cela sous une forme symbolique. Sympy comprend également des modules pour le traçage des courbes en 1D, 2D et 3D ainsi que des modules d'impression évoluées compatibles LATEX par exemple.\n"
   ]
  },
  {
   "cell_type": "markdown",
   "id": "9da95c00",
   "metadata": {},
   "source": [
    "# Utilité de SymPy"
   ]
  },
  {
   "cell_type": "markdown",
   "id": "1fc5c67d",
   "metadata": {},
   "source": [
    "\n",
    "Il exite de nombreux systèmes d'algèbre informatique permettant de réaliser du calcul sympbolique. Qu'est  ce qui fait de Sympy un meilleur choix que ses alternatives souvent payantes.\n",
    "     ---SymPy est entièrement gratuit :\n",
    "     ---SymPy est open source et sous licence libérale BSD, vous pouvez donc modifier le code source ;\n",
    "     ---SymPy est entièrement écrit en Python et est entièrement exécuté en Python ; \n",
    "     ---SymPy est léger.\n",
    "   Ces nombreux avantages font que la bibliothèque Python SYMPY est très utilisée en mathématiques , physique-chimie, sciences de l'ingénieur et dans tout les domaines qui nécessitent la mise en oeuvre du calcul symbolique. \n",
    "###3- Initialisation \n",
    "Pour pouvoir utiliser sympy il convient avant toute chose d'importer la bibliothèque dédiée et définir le paramétrage de l'imprimante virtuelle pour la sortie de l'affichage à l'écran et tapant from sympy import * et init_printing."
   ]
  },
  {
   "cell_type": "code",
   "execution_count": null,
   "id": "7d5b1e77",
   "metadata": {},
   "outputs": [],
   "source": [
    "Definition des variables \n",
    "Pour manipuler des expressions algébriques , il va falloir faire appel à nos propres variables. Les varaibles symboliques  sympy  sont préalablement déclarés et sont utlisées comme des variables classiques. Pour définir ses variables, on utilise l'instruction symbols.\n"
   ]
  },
  {
   "cell_type": "code",
   "execution_count": 8,
   "id": "2994e8a6",
   "metadata": {},
   "outputs": [],
   "source": [
    "#Declaration des variables\n",
    "x = symbol(\"x\")\n",
    "#Déclaration d'un nombre entier\n",
    "y = symbol(\"y\", integer = True )\n",
    "#Déclaration d'un nombre complexe\n",
    "z = symbol(\"z\", imaginary = True)\n"
   ]
  },
  {
   "cell_type": "code",
   "execution_count": 45,
   "id": "b1e44f0f",
   "metadata": {},
   "outputs": [
    {
     "name": "stdout",
     "output_type": "stream",
     "text": [
      "x**2 + y**2\n"
     ]
    }
   ],
   "source": [
    "from sympy import symbols\n",
    "#init_session()\n",
    "x,y= symbols('x,y')\n",
    "#y = symbol(\"y\")\n",
    "A = x**2 + y**2\n",
    "print(A)"
   ]
  },
  {
   "cell_type": "code",
   "execution_count": null,
   "id": "91027e8d",
   "metadata": {},
   "outputs": [],
   "source": []
  },
  {
   "cell_type": "raw",
   "id": "39c6b8d5",
   "metadata": {},
   "source": [
    "Evaluer une expression avec la méthode evalf()"
   ]
  },
  {
   "cell_type": "code",
   "execution_count": 12,
   "id": "26889399",
   "metadata": {},
   "outputs": [],
   "source": [
    "#Affichage de la valeur de pi avec 3 chiffres significatifs avec la méthode evals() \n",
    "pi = 3.14\n",
    "pi.evalf(3)"
   ]
  },
  {
   "cell_type": "code",
   "execution_count": null,
   "id": "23ed3f8f",
   "metadata": {},
   "outputs": [],
   "source": []
  },
  {
   "cell_type": "code",
   "execution_count": 14,
   "id": "6eb055ed",
   "metadata": {},
   "outputs": [],
   "source": [
    "#Affichage e la valeur de pi avec 10 chiffres significatifs avec la méthode evals() \n",
    "pi.evalf(10)"
   ]
  },
  {
   "cell_type": "markdown",
   "id": "dc16c678",
   "metadata": {},
   "source": [
    "### Simplifier une expression avec la fonction simplify()\n"
   ]
  },
  {
   "cell_type": "code",
   "execution_count": 61,
   "id": "ec4bbf70",
   "metadata": {},
   "outputs": [
    {
     "name": "stdout",
     "output_type": "stream",
     "text": [
      "0.5\n"
     ]
    }
   ],
   "source": [
    "from sympy.simplify import fraction\n",
    "from sympy import symbols\n",
    "x = symbols(\"x\")\n",
    "x = 4/8\n",
    "print(x)"
   ]
  },
  {
   "cell_type": "code",
   "execution_count": 15,
   "id": "5417aee8",
   "metadata": {},
   "outputs": [],
   "source": [
    "from sympy import symbols\n",
    "x = symbols(\"x\")\n",
    "E1 = cos(x)**2 + sin(x)**2\n",
    "simplify(E1)\n",
    "\n"
   ]
  },
  {
   "cell_type": "markdown",
   "id": "8bd7da3d",
   "metadata": {},
   "source": [
    "# Factoriser une expression avec la méthode factor()"
   ]
  },
  {
   "cell_type": "code",
   "execution_count": 16,
   "id": "9c024e47",
   "metadata": {},
   "outputs": [],
   "source": [
    "E1 = x**3 + x**2 - x + 1\n",
    "factor(E1)"
   ]
  },
  {
   "cell_type": "markdown",
   "id": "90dd50f3",
   "metadata": {},
   "source": [
    "# Substituer une variable par sa valeur dans une expression avec la méthode subs()"
   ]
  },
  {
   "cell_type": "code",
   "execution_count": 17,
   "id": "f87bab81",
   "metadata": {},
   "outputs": [],
   "source": [
    "E3 = 2*x + 3*y + 1\n",
    "E3.subs(x:1, y:2)"
   ]
  },
  {
   "cell_type": "markdown",
   "id": "a4a18d7c",
   "metadata": {},
   "source": [
    "# Tracer des courbes "
   ]
  },
  {
   "cell_type": "code",
   "execution_count": 54,
   "id": "0b89cea3",
   "metadata": {},
   "outputs": [
    {
     "name": "stdout",
     "output_type": "stream",
     "text": [
      "      1 |              ..               ..               ..     \n",
      "        |             .                .                .       \n",
      "        |                .                .                .    \n",
      "        |            .                .                .        \n",
      "        |                                                       \n",
      "        |.                .                .                .   \n",
      "        |                            .                .         \n",
      "        |           .                                           \n",
      "        | .                .                .                .  \n",
      "        |                                                       \n",
      "      0 |----------.----------------.----------------.----------\n",
      "        |                                                       \n",
      "        |  .                .                .                . \n",
      "        |                                           .           \n",
      "        |         .                .                            \n",
      "        |   .                .                .                .\n",
      "        |                                                       \n",
      "        |        .                .                .            \n",
      "        |    .                .                .                \n",
      "        |       .                .                .             \n",
      "     -1 |_______________________________________________________\n",
      "         -10                        0                          10\n"
     ]
    },
    {
     "data": {
      "text/plain": [
       "<sympy.plotting.plot.Plot at 0x7f095acec670>"
      ]
     },
     "execution_count": 54,
     "metadata": {},
     "output_type": "execute_result"
    }
   ],
   "source": [
    "#Tracer une courbe en 1D par defaut sur [-5,5]\n",
    "plot(sin(x))\n",
    "\n"
   ]
  },
  {
   "cell_type": "code",
   "execution_count": null,
   "id": "0b47bde3",
   "metadata": {},
   "outputs": [],
   "source": [
    "#Tracer de courbes en 2D \n",
    "#Tracer la surface x**2 + y**2 pour les intervalles [-5,5] pour x et [-5, 5] pour y\n"
   ]
  },
  {
   "cell_type": "code",
   "execution_count": 26,
   "id": "1057ea38",
   "metadata": {},
   "outputs": [],
   "source": [
    "from sympy import *\n",
    "plot2d(x**2 + y**2, (x,-5,5), (y,-5,5))"
   ]
  },
  {
   "cell_type": "markdown",
   "id": "96a41d1d",
   "metadata": {},
   "source": [
    "Trouver les racines d'une équation avec la fonction roots()"
   ]
  },
  {
   "cell_type": "code",
   "execution_count": 28,
   "id": "b10c645e",
   "metadata": {},
   "outputs": [
    {
     "data": {
      "text/plain": [
       "{}"
      ]
     },
     "execution_count": 28,
     "metadata": {},
     "output_type": "execute_result"
    }
   ],
   "source": [
    "#Exemple : recherche des racines de f(x)=x**2 + x +1\n",
    "from sympy import *\n",
    "import sympy \n",
    "roots(x**2+x+1)"
   ]
  },
  {
   "cell_type": "markdown",
   "id": "d7589490",
   "metadata": {},
   "source": [
    "Resourdre une fonction avec la méthode solve ()"
   ]
  },
  {
   "cell_type": "markdown",
   "id": "a9fcbe86",
   "metadata": {},
   "source": [
    "La fonction solve() de SYMPY permet de résoudre les équations définies à l'aide de la fonction Eq(). Dans l'exemple ci-dessous, l'équation dependante de la variable x est x**2 =2.\n",
    "Avec Eq() on précise la valeur des deux termes de l'équation et on indique à solve() la variable par rapport à laquelle on veut résoudre celle ci.  "
   ]
  }
 ],
 "metadata": {
  "kernelspec": {
   "display_name": "Python 3 (ipykernel)",
   "language": "python",
   "name": "python3"
  },
  "language_info": {
   "codemirror_mode": {
    "name": "ipython",
    "version": 3
   },
   "file_extension": ".py",
   "mimetype": "text/x-python",
   "name": "python",
   "nbconvert_exporter": "python",
   "pygments_lexer": "ipython3",
   "version": "3.8.10"
  }
 },
 "nbformat": 4,
 "nbformat_minor": 5
}
