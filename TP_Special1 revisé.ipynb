{
 "cells": [
  {
   "cell_type": "markdown",
   "id": "a8653f0f",
   "metadata": {},
   "source": [
    "Exercice  1"
   ]
  },
  {
   "cell_type": "code",
   "execution_count": 1,
   "id": "ee5c5830",
   "metadata": {},
   "outputs": [
    {
     "name": "stdout",
     "output_type": "stream",
     "text": [
      "Enter the number:6\n",
      "18\n"
     ]
    }
   ],
   "source": [
    "#i\n",
    "n=int(input(\"Enter the number:\"))\n",
    "som=0\n",
    "for i in range(0,n):\n",
    "    if(i%2)!=0:\n",
    "        i=i+3\n",
    "        som=som+i\n",
    "print(som)    \n",
    "    "
   ]
  },
  {
   "cell_type": "code",
   "execution_count": 4,
   "id": "12a59929",
   "metadata": {},
   "outputs": [
    {
     "name": "stdout",
     "output_type": "stream",
     "text": [
      "Enter the number:8\n",
      "945\n"
     ]
    }
   ],
   "source": [
    "#ii\n",
    "n=int(input(\"Enter the number:\"))\n",
    "prod=1\n",
    "for i in range(0,n):\n",
    "    if(i%2)==0:\n",
    "        i=i+3\n",
    "        prod=prod*i\n",
    "print(prod)    \n",
    "    \n",
    "    "
   ]
  },
  {
   "cell_type": "markdown",
   "id": "868a9910",
   "metadata": {},
   "source": [
    "Exercice 2"
   ]
  },
  {
   "cell_type": "code",
   "execution_count": 5,
   "id": "b1bed359",
   "metadata": {},
   "outputs": [
    {
     "name": "stdout",
     "output_type": "stream",
     "text": [
      "Enter the day's number from 0 to 6:4\n",
      "The corresponding day is Friday\n"
     ]
    }
   ],
   "source": [
    "#2-Programm which reads the day's number \n",
    "n=int(input(\"Enter the day's number from 0 to 6:\"))\n",
    "if n<0 or n>6 :\n",
    "    n=int(input(\"Enter the day's number from 0 to 6,Please:\"))\n",
    "elif n==0:\n",
    "    print(\"The corresponding day is Monday\")\n",
    "elif n==1:\n",
    "    print(\"The corresponding day is Tuesday\")\n",
    "elif n==2:\n",
    "    print(\"The corresponding day is Wednesday\")\n",
    "elif n==3:\n",
    "    print(\"The corresponding day is Thursday\")\n",
    "elif n==4:\n",
    "    print(\"The corresponding day is Friday\")\n",
    "else:\n",
    "    print(\"Weekend\")\n",
    "\n"
   ]
  },
  {
   "cell_type": "markdown",
   "id": "791ad6a0",
   "metadata": {},
   "source": [
    "Exercice 3"
   ]
  },
  {
   "cell_type": "code",
   "execution_count": 6,
   "id": "c5529bcb",
   "metadata": {},
   "outputs": [
    {
     "name": "stdout",
     "output_type": "stream",
     "text": [
      "Enter the month's number from 0 to 11:4\n",
      "This month has 31 days\n"
     ]
    }
   ],
   "source": [
    "#3-Program which reads the month's number\n",
    "n=int(input(\"Enter the month's number from 0 to 11:\"))\n",
    "if n<0 or n>11 :\n",
    "    n=int(input(\"Enter the month's number from 0 to 11,Please:\"))\n",
    "elif n==1:\n",
    "    print(\"This month has 28 days\")\n",
    "elif n==0 or n==2 or n==4 or n==6 or n==7 or n==9 or n==11:\n",
    "    print(\"This month has 31 days\")\n",
    "elif n==3 or n==5 or n==8 or n==10:\n",
    "    print(\"This month has 30 days\")"
   ]
  },
  {
   "cell_type": "markdown",
   "id": "03e4cbbc",
   "metadata": {},
   "source": [
    "Exercice 4"
   ]
  },
  {
   "cell_type": "code",
   "execution_count": 7,
   "id": "19387b32",
   "metadata": {},
   "outputs": [
    {
     "name": "stdout",
     "output_type": "stream",
     "text": [
      "Esther\n",
      "Esther\n",
      "Esther\n"
     ]
    }
   ],
   "source": [
    "#4-Program which displays my name 3 times\n",
    "#With For loop\n",
    "name=\"Esther\"\n",
    "for i in range(0,3):\n",
    "    print(name)"
   ]
  },
  {
   "cell_type": "code",
   "execution_count": 8,
   "id": "892a2e43",
   "metadata": {},
   "outputs": [
    {
     "name": "stdout",
     "output_type": "stream",
     "text": [
      "Esther\n",
      "Esther\n",
      "Esther\n"
     ]
    }
   ],
   "source": [
    "#With While loop\n",
    "name=\"Esther\"\n",
    "i=1\n",
    "while (i<=3): \n",
    "    print(name)\n",
    "    i=i+1"
   ]
  },
  {
   "cell_type": "markdown",
   "id": "b61df518",
   "metadata": {},
   "source": [
    "Exercice 5"
   ]
  },
  {
   "cell_type": "code",
   "execution_count": 9,
   "id": "3fe495f5",
   "metadata": {},
   "outputs": [
    {
     "name": "stdout",
     "output_type": "stream",
     "text": [
      "La suite des 15 premiers nombres de Fibonacci est:\n",
      "[0, 1, 1]\n",
      "[0, 1, 1, 2]\n",
      "[0, 1, 1, 2, 3]\n",
      "[0, 1, 1, 2, 3, 5]\n",
      "[0, 1, 1, 2, 3, 5, 8]\n",
      "[0, 1, 1, 2, 3, 5, 8, 13]\n",
      "[0, 1, 1, 2, 3, 5, 8, 13, 21]\n",
      "[0, 1, 1, 2, 3, 5, 8, 13, 21, 34]\n",
      "[0, 1, 1, 2, 3, 5, 8, 13, 21, 34, 55]\n",
      "[0, 1, 1, 2, 3, 5, 8, 13, 21, 34, 55, 89]\n",
      "[0, 1, 1, 2, 3, 5, 8, 13, 21, 34, 55, 89, 144]\n",
      "[0, 1, 1, 2, 3, 5, 8, 13, 21, 34, 55, 89, 144, 233]\n",
      "[0, 1, 1, 2, 3, 5, 8, 13, 21, 34, 55, 89, 144, 233, 377]\n"
     ]
    }
   ],
   "source": [
    "#5-Fibonacci\n",
    "a0=0\n",
    "a1=1\n",
    "print(\"La suite des 15 premiers nombres de Fibonacci est:\")\n",
    "tab=[a0, a1]\n",
    "for i in range(2,15):\n",
    "    new= a0+a1\n",
    "    tab.append(new)\n",
    "    a0=a1\n",
    "    a1=new\n",
    "    print(tab)\n",
    "    \n",
    "        \n",
    "   "
   ]
  },
  {
   "cell_type": "markdown",
   "id": "2cf29d74",
   "metadata": {},
   "source": [
    "Exercice 6"
   ]
  },
  {
   "cell_type": "code",
   "execution_count": 10,
   "id": "db0b9ca7",
   "metadata": {},
   "outputs": [
    {
     "name": "stdout",
     "output_type": "stream",
     "text": [
      "The first 30 terms of the sequence are: \n",
      "0\n",
      "1\n",
      "0.5\n",
      "3.25\n",
      "3.125\n",
      "11.3125\n",
      "15.03125\n",
      "41.453125\n",
      "65.8203125\n",
      "157.26953125\n",
      "276.095703125\n",
      "609.8564453125\n",
      "1133.21533203125\n",
      "2396.177001953125\n",
      "4597.7344970703125\n",
      "9487.398254394531\n",
      "18536.902618408203\n",
      "37730.646072387695\n",
      "74476.03089141846\n",
      "150429.9536628723\n",
      "298643.0695056915\n",
      "600611.3957414627\n",
      "1196234.906387806\n",
      "2399951.640418291\n",
      "4788680.539372563\n",
      "9594195.190941155\n",
      "19163139.213588268\n",
      "38364155.1796176\n",
      "76671495.2305736\n",
      "153428213.15413958\n"
     ]
    }
   ],
   "source": [
    "\n",
    "x0=0\n",
    "x1=1\n",
    "print(\"The first 30 terms of the sequence are: \")\n",
    "print(x0)\n",
    "print(x1)\n",
    "for i in range(0,28):\n",
    "    new= ((6*x0)+x1)/2\n",
    "    print(new)\n",
    "    x0=x1\n",
    "    x1=new"
   ]
  },
  {
   "cell_type": "markdown",
   "id": "23a7fb9b",
   "metadata": {},
   "source": [
    "Exercice 7"
   ]
  },
  {
   "cell_type": "code",
   "execution_count": 13,
   "id": "bbc90804",
   "metadata": {},
   "outputs": [
    {
     "name": "stdout",
     "output_type": "stream",
     "text": [
      "Enter the year: 200\n",
      "It's not a leap year\n"
     ]
    }
   ],
   "source": [
    "#7-a.) Leap or not leap year\n",
    "annee=int(input(\"Enter the year: \"))\n",
    "if (annee%4 ==0 and annee%100 !=0) or annee%400 ==0 :\n",
    "    print(\"It's a leap year\")\n",
    "else:\n",
    "    print(\"It's not a leap year\")"
   ]
  },
  {
   "cell_type": "code",
   "execution_count": 18,
   "id": "0dbd6b6c",
   "metadata": {},
   "outputs": [
    {
     "name": "stdout",
     "output_type": "stream",
     "text": [
      "Enter the year: 2004\n",
      "True\n"
     ]
    }
   ],
   "source": [
    "#7-b.) \n",
    "annee=int(input(\"Enter the year: \"))\n",
    "a=(annee%4 ==0 and annee%100 !=0) or annee%400 ==0\n",
    "print(a)\n"
   ]
  },
  {
   "cell_type": "markdown",
   "id": "3f17bba8",
   "metadata": {},
   "source": [
    "Exercice 8"
   ]
  },
  {
   "cell_type": "code",
   "execution_count": 19,
   "id": "56b83e3e",
   "metadata": {},
   "outputs": [
    {
     "name": "stdout",
     "output_type": "stream",
     "text": [
      "Enter a number5\n",
      "The sum of the square of the first 5 natural number is 30\n"
     ]
    }
   ],
   "source": [
    "#8- a) Program which computes The sum of the square of the first n natural number\n",
    "#For Loop\n",
    "n=int(input(\"Enter a number\"))\n",
    "cpt=0\n",
    "for i in range(0,n):\n",
    "    cpt=cpt+(i**2)\n",
    "print(\"The sum of the square of the first\",n,\"natural number is\",cpt)\n",
    "  "
   ]
  },
  {
   "cell_type": "code",
   "execution_count": 20,
   "id": "8a563351",
   "metadata": {},
   "outputs": [
    {
     "name": "stdout",
     "output_type": "stream",
     "text": [
      "Enter a number5\n",
      "The sum of the square of the first 5 natural number is 30\n"
     ]
    }
   ],
   "source": [
    "#While loop\n",
    "n=int(input(\"Enter a number\"))\n",
    "cpt=0\n",
    "i=0\n",
    "while i<n:\n",
    "    cpt=cpt+(i**2)\n",
    "    i=i+1\n",
    "print(\"The sum of the square of the first\",n,\"natural number is\",cpt)\n",
    "  \n"
   ]
  },
  {
   "cell_type": "code",
   "execution_count": 24,
   "id": "bfa7f38e",
   "metadata": {},
   "outputs": [
    {
     "name": "stdout",
     "output_type": "stream",
     "text": [
      "Enter a number :5\n",
      "0\n"
     ]
    }
   ],
   "source": [
    "#8-b) Program that prints for a natural number M, the smallest natural number n that satisfied condition\n",
    "#For loop\n",
    "\n",
    "M=int(input(\"Enter a number :\"))\n",
    "somme,temp,n = 0, 0, 0\n",
    "if M>0:\n",
    "    for n in range(115,M):\n",
    "        somme+= n**2\n",
    "        if somme >=M:\n",
    "            temp=n\n",
    "            break\n",
    "    print(temp)\n",
    "else:\n",
    "    print(\"Invalide\")"
   ]
  },
  {
   "cell_type": "code",
   "execution_count": 23,
   "id": "6e304f58",
   "metadata": {},
   "outputs": [
    {
     "name": "stdout",
     "output_type": "stream",
     "text": [
      "Enter a number :16\n",
      "4\n"
     ]
    }
   ],
   "source": [
    "#while loop\n",
    "M=int(input(\"Enter a number :\"))\n",
    "i=1\n",
    "s=0\n",
    "while s<M : \n",
    "    s=s+(i**2)\n",
    "    c=i\n",
    "    i+=1\n",
    "print(c)"
   ]
  },
  {
   "cell_type": "markdown",
   "id": "649fe8cf",
   "metadata": {},
   "source": [
    "Exercice 9"
   ]
  },
  {
   "cell_type": "code",
   "execution_count": 26,
   "id": "83fec080",
   "metadata": {},
   "outputs": [
    {
     "name": "stdout",
     "output_type": "stream",
     "text": [
      "Enter a number20\n",
      "1\n",
      "2\n",
      "4\n",
      "5\n",
      "10\n",
      "20\n"
     ]
    }
   ],
   "source": [
    "#9-a) Program which gives all divisors of an natural number\n",
    "n=int(input(\"Enter a number\"))\n",
    "for i in range(1,n+1):\n",
    "    if (n%i)==0:\n",
    "        print(i)\n",
    "        "
   ]
  },
  {
   "cell_type": "code",
   "execution_count": 30,
   "id": "d0a4cc03",
   "metadata": {},
   "outputs": [
    {
     "name": "stdout",
     "output_type": "stream",
     "text": [
      "2\n",
      "3\n"
     ]
    }
   ],
   "source": [
    "#9-b) Program which calculates the prime factors\n",
    "def prime(n):\n",
    "    \"\"\"Takes an integer as argument and returns 1 if the integer is prime and O otherwise \"\"\"\n",
    "    if n==2:\n",
    "        return 1\n",
    "    else:\n",
    "        s=0\n",
    "    for i in range(2,n):\n",
    "        if (n%i)==0:\n",
    "            s+=1\n",
    "    if s==0:  \n",
    "        return 1\n",
    "    else:\n",
    "        return 0\n",
    "def prime_factors(n):\n",
    "    for j in range(2,n):\n",
    "        if (n%j)==0 and prime(j)==1:\n",
    "            print(j)\n",
    "prime_factors(12)"
   ]
  },
  {
   "cell_type": "markdown",
   "id": "0f19f1c5",
   "metadata": {},
   "source": [
    "Exercice 10"
   ]
  },
  {
   "cell_type": "code",
   "execution_count": 29,
   "id": "23e89df5",
   "metadata": {},
   "outputs": [
    {
     "name": "stdout",
     "output_type": "stream",
     "text": [
      "Enter the number n:4\n",
      "Enter the number N:12\n",
      "4 x 0 = 0 \n",
      "\n",
      "4 x 1 = 4 \n",
      "\n",
      "4 x 2 = 8 \n",
      "\n",
      "4 x 3 = 12 \n",
      "\n",
      "4 x 4 = 16 \n",
      "\n",
      "4 x 5 = 20 \n",
      "\n",
      "4 x 6 = 24 \n",
      "\n",
      "4 x 7 = 28 \n",
      "\n",
      "4 x 8 = 32 \n",
      "\n",
      "4 x 9 = 36 \n",
      "\n",
      "4 x 10 = 40 \n",
      "\n",
      "4 x 11 = 44 \n",
      "\n",
      "4 x 12 = 48 \n",
      "\n"
     ]
    }
   ],
   "source": [
    "#10- Table of multiplication\n",
    "n= int(input(\"Enter the number n:\"))\n",
    "N= int(input(\"Enter the number N:\"))\n",
    "i=0\n",
    "while i<N+1:\n",
    "    print(n,\"x\", i,\"=\",n*i,\"\\n\")\n",
    "    i=i+1"
   ]
  },
  {
   "cell_type": "markdown",
   "id": "c505924c",
   "metadata": {},
   "source": [
    "Exercice 11"
   ]
  },
  {
   "cell_type": "code",
   "execution_count": 31,
   "id": "20cf0927",
   "metadata": {},
   "outputs": [
    {
     "name": "stdout",
     "output_type": "stream",
     "text": [
      "3\n",
      "6\n",
      "7\n",
      "9\n",
      "11\n",
      "12\n",
      "14\n",
      "15\n",
      "18\n",
      "21\n",
      "22\n",
      "24\n",
      "27\n",
      "28\n",
      "30\n",
      "33\n",
      "35\n",
      "36\n",
      "39\n"
     ]
    }
   ],
   "source": [
    "#11\n",
    "for i in range(1,40):\n",
    "    if(i%3)==0 or (i%7)==0 or (i%11)==0 :\n",
    "         print(i)    \n"
   ]
  },
  {
   "cell_type": "markdown",
   "id": "62ae9dae",
   "metadata": {},
   "source": [
    "Exercice 12"
   ]
  },
  {
   "cell_type": "code",
   "execution_count": 34,
   "id": "1e59e7b3",
   "metadata": {},
   "outputs": [
    {
     "name": "stdout",
     "output_type": "stream",
     "text": [
      "Enter a float number:12.58\n",
      "12\n"
     ]
    }
   ],
   "source": [
    "\n",
    "n=float(input(\"Enter a float number:\"))\n",
    "if n>0 :\n",
    "    f=int(n)\n",
    "    print(f)\n",
    "elif n<0 :\n",
    "    f= int(n)-1\n",
    "    print(f)\n",
    "else:\n",
    "    print(f)\n",
    "    \n"
   ]
  },
  {
   "cell_type": "markdown",
   "id": "8dc15f5f",
   "metadata": {},
   "source": [
    "Exercice 13"
   ]
  },
  {
   "cell_type": "code",
   "execution_count": null,
   "id": "5d843ab7",
   "metadata": {},
   "outputs": [],
   "source": [
    "#13-\n",
    "def position():\n",
    "    \"\"\"locates a point in the cartesian coordinate system\"\"\"\n",
    "    avis=\"Y\"\n",
    "    \n",
    "    while(avis[0]==\"Y\"):\n",
    "        x=float(input(\"Abscisse :\"))\n",
    "        y=float(input(\"ordonnée :\"))\n",
    "        if(x<0):\n",
    "            if(y>0):\n",
    "                print(\"first cadran\")\n",
    "            elif y<0:\n",
    "                print(\"fourth cadran\")\n",
    "            else:\n",
    "                print(\"On X axis\")\n",
    "        elif x>0:\n",
    "            if(y>0):\n",
    "                print(\"Second cadran\")\n",
    "            elif y<0:\n",
    "                print(\"Third cadran\")\n",
    "            else:\n",
    "                print(\"On X axis\")\n",
    "        else:\n",
    "            if y!= 0:\n",
    "                 print(\"On Y axis \")\n",
    "            elif y==0 :\n",
    "                print(\"Origin\")\n",
    "    avis= input(\"Continue (Y/N)\").split(\"\")\n",
    "        \n",
    "        \n",
    "position()                \n",
    "            \n",
    "\n",
    "\n",
    "    "
   ]
  },
  {
   "cell_type": "markdown",
   "id": "2537763f",
   "metadata": {},
   "source": [
    "Exercice 14"
   ]
  },
  {
   "cell_type": "code",
   "execution_count": null,
   "id": "aa2ca30b",
   "metadata": {},
   "outputs": [
    {
     "name": "stdout",
     "output_type": "stream",
     "text": [
      "Enter number between 0 and 9:5\n",
      "Enter number between 0 and 255:15\n",
      "[5, 10, 15]\n"
     ]
    }
   ],
   "source": [
    "\n",
    "i=0\n",
    "while i != 1:\n",
    "    j=0\n",
    "    while j!= 1:\n",
    "        x=int(input(\"Enter number between 0 and 9:\"))\n",
    "        if (x<0) or (x>9):\n",
    "            j=0\n",
    "        else:\n",
    "            j=1\n",
    "    j=0\n",
    "    while j!= 1:\n",
    "        max=int(input(\"Enter number between 0 and 255:\"))\n",
    "        if (max<0) or (max>255):\n",
    "            j=0\n",
    "        else:\n",
    "            j=1\n",
    "    tab=[]\n",
    "    for l in range(1,max+1):\n",
    "        if l%x ==0:\n",
    "            tab.append(l)\n",
    "    print(tab)\n",
    "i=int(input(\"Restart yes(0) ou no(1):\"))"
   ]
  },
  {
   "cell_type": "code",
   "execution_count": null,
   "id": "e9503797",
   "metadata": {},
   "outputs": [],
   "source": []
  }
 ],
 "metadata": {
  "kernelspec": {
   "display_name": "Python 3 (ipykernel)",
   "language": "python",
   "name": "python3"
  },
  "language_info": {
   "codemirror_mode": {
    "name": "ipython",
    "version": 3
   },
   "file_extension": ".py",
   "mimetype": "text/x-python",
   "name": "python",
   "nbconvert_exporter": "python",
   "pygments_lexer": "ipython3",
   "version": "3.8.10"
  }
 },
 "nbformat": 4,
 "nbformat_minor": 5
}
