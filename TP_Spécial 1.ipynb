{
 "cells": [
  {
   "cell_type": "markdown",
   "id": "ec7f54d3",
   "metadata": {},
   "source": [
    "\n",
    "    TP_Spécial 1\n"
   ]
  },
  {
   "cell_type": "markdown",
   "id": "cfc70b39",
   "metadata": {},
   "source": [
    "    Exercice 1"
   ]
  },
  {
   "cell_type": "code",
   "execution_count": 2,
   "id": "265be934",
   "metadata": {},
   "outputs": [
    {
     "name": "stdout",
     "output_type": "stream",
     "text": [
      "Enter the number:5\n",
      "10\n"
     ]
    }
   ],
   "source": [
    "\n",
    "n=int(input(\"Enter the number:\"))\n",
    "som=0\n",
    "for i in range(0,n):\n",
    "    if(i%2)!=0:\n",
    "        i=i+3\n",
    "        som=som+i\n",
    "print(som)    \n",
    "    "
   ]
  },
  {
   "cell_type": "markdown",
   "id": "00ade1ae",
   "metadata": {},
   "source": [
    "Exercice 2"
   ]
  },
  {
   "cell_type": "code",
   "execution_count": 4,
   "id": "4bd45e64",
   "metadata": {},
   "outputs": [
    {
     "name": "stdout",
     "output_type": "stream",
     "text": [
      "Enter the number:9\n",
      "35\n"
     ]
    }
   ],
   "source": [
    "n=int(input(\"Enter the number:\"))\n",
    "som=0\n",
    "for i in range(0,n):\n",
    "    if(i%2)==0:\n",
    "        i=i+3\n",
    "        som=som+i\n",
    "print(som)    \n",
    "    \n",
    "    "
   ]
  },
  {
   "cell_type": "markdown",
   "id": "cd36a87f",
   "metadata": {},
   "source": [
    "Exercice 3"
   ]
  },
  {
   "cell_type": "code",
   "execution_count": 8,
   "id": "52cd57ea",
   "metadata": {},
   "outputs": [
    {
     "name": "stdout",
     "output_type": "stream",
     "text": [
      "Enter the day's number from 0 to 6:7\n",
      "Enter the day's number from 0 to 6,Please:4\n"
     ]
    }
   ],
   "source": [
    "n=int(input(\"Enter the day's number from 0 to 6:\"))\n",
    "if n<0 or n>6 :\n",
    "    n=int(input(\"Enter the day's number from 0 to 6,Please:\"))\n",
    "elif n==0:\n",
    "    print(\"The corresponding day is Monday\")\n",
    "elif n==1:\n",
    "    print(\"The corresponding day is Tuesday\")\n",
    "elif n==2:\n",
    "    print(\"The corresponding day is Wednesday\")\n",
    "elif n==3:\n",
    "    print(\"The corresponding day is Thursday\")\n",
    "elif n==4:\n",
    "    print(\"The corresponding day is Friday\")\n",
    "else:\n",
    "    print(\"Weekend\")\n",
    "\n"
   ]
  },
  {
   "cell_type": "markdown",
   "id": "3cb597d1",
   "metadata": {},
   "source": [
    "Exercice 3"
   ]
  },
  {
   "cell_type": "code",
   "execution_count": 9,
   "id": "d691cd98",
   "metadata": {},
   "outputs": [
    {
     "name": "stdout",
     "output_type": "stream",
     "text": [
      "Enter the month's number from 0 to 11:3\n",
      "This month has 30 days\n"
     ]
    }
   ],
   "source": [
    "#3-Program which reads the month's number\n",
    "n=int(input(\"Enter the month's number from 0 to 11:\"))\n",
    "if n<0 or n>11 :\n",
    "    n=int(input(\"Enter the month's number from 0 to 11,Please:\"))\n",
    "elif n==1:\n",
    "    print(\"This month has 28 days\")\n",
    "elif n==0 or n==2 or n==4 or n==6 or n==7 or n==9 or n==11:\n",
    "    print(\"This month has 31 days\")\n",
    "elif n==3 or n==5 or n==8 or n==10:\n",
    "    print(\"This month has 30 days\")"
   ]
  },
  {
   "cell_type": "markdown",
   "id": "fbcb4845",
   "metadata": {},
   "source": [
    "Exercice 4"
   ]
  },
  {
   "cell_type": "code",
   "execution_count": 11,
   "id": "19387b32",
   "metadata": {},
   "outputs": [
    {
     "name": "stdout",
     "output_type": "stream",
     "text": [
      "Esther\n",
      "Esther\n",
      "Esther\n"
     ]
    }
   ],
   "source": [
    "#4-Program which displays my name 3 times\n",
    "#With For loop\n",
    "name=\"Esther\"\n",
    "for i in range(0,3):\n",
    "    print(name)"
   ]
  },
  {
   "cell_type": "code",
   "execution_count": 10,
   "id": "892a2e43",
   "metadata": {},
   "outputs": [
    {
     "name": "stdout",
     "output_type": "stream",
     "text": [
      "Esther\n",
      "Esther\n",
      "Esther\n"
     ]
    }
   ],
   "source": [
    "#With While loop\n",
    "name=\"Esther\"\n",
    "i=1\n",
    "while (i<=3): \n",
    "    print(name)\n",
    "    i=i+1"
   ]
  },
  {
   "cell_type": "markdown",
   "id": "f1955969",
   "metadata": {},
   "source": [
    "Exercice 5"
   ]
  },
  {
   "cell_type": "code",
   "execution_count": 16,
   "id": "7dbbe890",
   "metadata": {},
   "outputs": [
    {
     "name": "stdout",
     "output_type": "stream",
     "text": [
      "Entrez un nombre positif:3\n",
      "Entrez  un nombre positif:8\n",
      "0\t1\t1\t\n",
      "2\t\n",
      "3\t\n",
      "5\t\n",
      "8\t\n",
      "13\t\n",
      "21\t\n",
      "34\t\n",
      "55\t\n",
      "89\t\n",
      "144\t\n",
      "233\t\n",
      "377\t\n"
     ]
    }
   ],
   "source": [
    "#5-Fibonacci\n",
    "m=int(input(\"Entrez un nombre positif:\"))\n",
    "n=int(input(\"Entrez  un nombre positif:\"))\n",
    "\n",
    "n1=0\n",
    "n2=1\n",
    "\n",
    "if(n<0):\n",
    "    print(\"Non valide\")\n",
    "elif(n==0):\n",
    "    print(n1)\n",
    "elif(n==1):\n",
    "    print(n2) \n",
    "else:\n",
    "    print(n1,end='\\t')\n",
    "    print(n2,end='\\t')\n",
    "    \n",
    "    for i in range(2,15):\n",
    "        nombre_suivant= n1+n2\n",
    "        print(nombre_suivant,end='\\t')\n",
    "        n1=n2\n",
    "        n2=nombre_suivant\n",
    "        print()\n",
    "        \n",
    "   "
   ]
  },
  {
   "cell_type": "markdown",
   "id": "88e7d3d0",
   "metadata": {},
   "source": [
    "Exercice 6"
   ]
  },
  {
   "cell_type": "markdown",
   "id": "1b236ab0",
   "metadata": {},
   "source": [
    "Exercice 7"
   ]
  },
  {
   "cell_type": "code",
   "execution_count": 21,
   "id": "bbc90804",
   "metadata": {},
   "outputs": [
    {
     "name": "stdout",
     "output_type": "stream",
     "text": [
      "Enter the number of the day of the second month of the year: 29\n",
      "It's a leap year\n"
     ]
    }
   ],
   "source": [
    "#7-a.) \n",
    "n=int(input(\"Enter the number of the day of the second month of the year: \"))\n",
    "if n!=28 and n!=29:\n",
    "    print(\"The second month must contain 28 or 29 days\")\n",
    "elif n==28:\n",
    "    print(\"It's not a leap year\")\n",
    "elif n==29:\n",
    "    print(\"It's a leap year\")"
   ]
  },
  {
   "cell_type": "code",
   "execution_count": null,
   "id": "0c0b76c4",
   "metadata": {},
   "outputs": [],
   "source": [
    "#7-b.) \n",
    "n=int(input(\"Enter the number of the day of the second month of the year: \"))\n",
    "if n!=28 and n!=29:\n",
    "    print(\"The second month must contain 28 or 29 days\")\n",
    "elif n==28:\n",
    "    print(\"It's not a leap year\")\n",
    "elif n==29:\n",
    "    print(\"It's a leap year\")"
   ]
  },
  {
   "cell_type": "code",
   "execution_count": null,
   "id": "3460e3ec",
   "metadata": {},
   "outputs": [],
   "source": [
    "Exercice 8"
   ]
  },
  {
   "cell_type": "code",
   "execution_count": 22,
   "id": "56b83e3e",
   "metadata": {},
   "outputs": [
    {
     "name": "stdout",
     "output_type": "stream",
     "text": [
      "Enter a number5\n",
      "The sum of the square of the first 5 natural number is 30\n"
     ]
    }
   ],
   "source": [
    "#Program which computes The sum of the square of the first n natural number\n",
    "#For Loop\n",
    "n=int(input(\"Enter a number\"))\n",
    "cpt=0\n",
    "for i in range(0,n):\n",
    "    cpt=cpt+(i**2)\n",
    "print(\"The sum of the square of the first\",n,\"natural number is\",cpt)\n",
    "  "
   ]
  },
  {
   "cell_type": "code",
   "execution_count": 24,
   "id": "8a563351",
   "metadata": {},
   "outputs": [
    {
     "name": "stdout",
     "output_type": "stream",
     "text": [
      "Enter a number3\n",
      "The sum of the square of the first 3 natural number is 5\n"
     ]
    }
   ],
   "source": [
    "#While loop\n",
    "n=int(input(\"Enter a number\"))\n",
    "cpt=0\n",
    "i=0\n",
    "while i<n:\n",
    "    cpt=cpt+(i**2)\n",
    "    i=i+1\n",
    "print(\"The sum of the square of the first\",n,\"natural number is\",cpt)\n",
    "  \n"
   ]
  },
  {
   "cell_type": "markdown",
   "id": "ed476723",
   "metadata": {},
   "source": [
    "Exercice 9"
   ]
  },
  {
   "cell_type": "code",
   "execution_count": 24,
   "id": "3f251dc7",
   "metadata": {},
   "outputs": [
    {
     "name": "stdout",
     "output_type": "stream",
     "text": [
      "Enter a number50\n",
      "1\n",
      "2\n",
      "5\n",
      "10\n",
      "25\n",
      "50\n"
     ]
    }
   ],
   "source": [
    "#Program which gives all divisors of an natural number\n",
    "n=int(input(\"Enter a number\"))\n",
    "for i in range(1,n+1):\n",
    "    if (n%i)==0:\n",
    "        print(i)\n",
    "        "
   ]
  },
  {
   "cell_type": "code",
   "execution_count": 25,
   "id": "d0a4cc03",
   "metadata": {},
   "outputs": [
    {
     "name": "stdout",
     "output_type": "stream",
     "text": [
      "Enter a number5\n",
      "1\t5\t"
     ]
    }
   ],
   "source": [
    "#Program which calculates the prime factors\n",
    "n=int(input(\"Enter a number\"))\n",
    "for i in range(1,n+1):\n",
    "    if (n%i)==0:\n",
    "        print(i,end='\\t')"
   ]
  },
  {
   "cell_type": "markdown",
   "id": "2849692a",
   "metadata": {},
   "source": [
    "Exercice 10"
   ]
  },
  {
   "cell_type": "code",
   "execution_count": 27,
   "id": "23e89df5",
   "metadata": {},
   "outputs": [
    {
     "name": "stdout",
     "output_type": "stream",
     "text": [
      "Enter the number:2\n",
      "Enter N:2\n",
      "2 x 0 = 0 \n",
      "\n",
      "2 x 1 = 5 \n",
      "\n",
      "2 x 2 = 10 \n",
      "\n"
     ]
    }
   ],
   "source": [
    "#Table of multiplication\n",
    "s= int(input(\"Enter the number:\"))\n",
    "t= int(input(\"Enter N:\"))\n",
    "\n",
    "i=0\n",
    "while i<t+1:\n",
    "    print(s,\"x\", i,\"=\",n*i,\"\\n\")\n",
    "    i=i+1"
   ]
  },
  {
   "cell_type": "markdown",
   "id": "379b8c55",
   "metadata": {},
   "source": [
    "Exercice 11"
   ]
  },
  {
   "cell_type": "code",
   "execution_count": 28,
   "id": "20cf0927",
   "metadata": {},
   "outputs": [
    {
     "name": "stdout",
     "output_type": "stream",
     "text": [
      "3\n",
      "6\n",
      "7\n",
      "9\n",
      "11\n",
      "12\n",
      "14\n",
      "15\n",
      "18\n",
      "21\n",
      "22\n",
      "24\n",
      "27\n",
      "28\n",
      "30\n",
      "33\n",
      "35\n",
      "36\n",
      "39\n"
     ]
    }
   ],
   "source": [
    "#11\n",
    "for i in range(1,40):\n",
    "    if(i%3)==0 or (i%7)==0 or (i%11)==0 :\n",
    "         print(i)    \n"
   ]
  },
  {
   "cell_type": "markdown",
   "id": "95adab41",
   "metadata": {},
   "source": [
    "Exercice 12"
   ]
  },
  {
   "cell_type": "code",
   "execution_count": 33,
   "id": "1e59e7b3",
   "metadata": {},
   "outputs": [
    {
     "name": "stdout",
     "output_type": "stream",
     "text": [
      "Enter a float number:6\n",
      "7.0\n"
     ]
    }
   ],
   "source": [
    "x=float(input(\"Enter a float number:\"))\n",
    "if x>5:\n",
    "    print(x+1)\n",
    "else: \n",
    "    print(x)\n"
   ]
  },
  {
   "cell_type": "code",
   "execution_count": null,
   "id": "891fe7c3",
   "metadata": {},
   "outputs": [],
   "source": []
  },
  {
   "cell_type": "code",
   "execution_count": null,
   "id": "c49b4e81",
   "metadata": {},
   "outputs": [],
   "source": []
  },
  {
   "cell_type": "markdown",
   "id": "06e5b92a",
   "metadata": {},
   "source": [
    "Exercice 14"
   ]
  },
  {
   "cell_type": "code",
   "execution_count": 34,
   "id": "aa2ca30b",
   "metadata": {},
   "outputs": [
    {
     "name": "stdout",
     "output_type": "stream",
     "text": [
      "Enter a natural number between 0 and 9:5\n",
      "Enter a natural number between 0 and 256:124\n",
      "5\n",
      "10\n",
      "15\n",
      "20\n",
      "25\n",
      "30\n",
      "35\n",
      "40\n",
      "45\n",
      "50\n",
      "55\n",
      "60\n",
      "65\n",
      "70\n",
      "75\n",
      "80\n",
      "85\n",
      "90\n",
      "95\n",
      "100\n",
      "105\n",
      "110\n",
      "115\n",
      "120\n"
     ]
    }
   ],
   "source": [
    "\n",
    "x=-1\n",
    "while x not in range(0,10):\n",
    "    x=int(input(\"Enter a natural number between 0 and 9:\"))\n",
    "maxi=-1\n",
    "while maxi not in range(0,256):\n",
    "    maxi=int(input(\"Enter a natural number between 0 and 256:\"))\n",
    "    for i in range(1,maxi+1):\n",
    "        if i%x==0:\n",
    "            print(i)"
   ]
  },
  {
   "cell_type": "code",
   "execution_count": null,
   "id": "e9503797",
   "metadata": {},
   "outputs": [],
   "source": []
  }
 ],
 "metadata": {
  "kernelspec": {
   "display_name": "Python 3 (ipykernel)",
   "language": "python",
   "name": "python3"
  },
  "language_info": {
   "codemirror_mode": {
    "name": "ipython",
    "version": 3
   },
   "file_extension": ".py",
   "mimetype": "text/x-python",
   "name": "python",
   "nbconvert_exporter": "python",
   "pygments_lexer": "ipython3",
   "version": "3.8.10"
  }
 },
 "nbformat": 4,
 "nbformat_minor": 5
}
