{
 "cells": [
  {
   "cell_type": "markdown",
   "metadata": {
    "id": "RAWKZD-l8aDi"
   },
   "source": [
    "\n",
    "\n",
    "\n",
    "### <center> <b> <span style=\"color:blue;\"> Travaux Pratiques: Chaînes de caractères</span> </b></center>\n",
    "\n"
   ]
  },
  {
   "cell_type": "markdown",
   "metadata": {
    "id": "ul3lmAMFVlvq"
   },
   "source": [
    "**EN = English**                     \n",
    "\n",
    "**FR = Français**"
   ]
  },
  {
   "cell_type": "markdown",
   "metadata": {
    "id": "MqQawZ_q8aDl"
   },
   "source": [
    "#### **Exercice 00:**  \n",
    "> **FR: Concaténation des chaînes 'Trente', 'Jours', 'De', 'Python', 'Trente Jours De Python' en une seule chaîne.**\n",
    "\n",
    "> **EN: Concatenation of the strings 'Thirty', 'Days', 'From', 'Python', 'Thirty Days From Python' into one string.**"
   ]
  },
  {
   "cell_type": "code",
   "execution_count": null,
   "metadata": {
    "colab": {
     "base_uri": "https://localhost:8080/"
    },
    "id": "lDA78Hkinn2t",
    "outputId": "04d3ca82-1add-4226-f856-6bf3d10bae4b"
   },
   "outputs": [
    {
     "name": "stdout",
     "output_type": "stream",
     "text": [
      "Trente Jours De Python\n"
     ]
    }
   ],
   "source": [
    "A = \"Trente\"\n",
    "B = \"Jours\"\n",
    "C = \"De\"\n",
    "D = \"Python\"\n",
    "E = A +\" \"+ B + \" \" + C + \" \" + D \n",
    "print(E)"
   ]
  },
  {
   "cell_type": "markdown",
   "metadata": {
    "id": "UdYv8mBJ8aDt"
   },
   "source": [
    "#### **Exercice 01:**  \n",
    "> **FR: Concaténer la chaîne 'Codage', 'Pour', 'Tous' en une seule chaîne, 'Codage Pour Tous'.**\n",
    "\n",
    "> **EN: Concatenate the string 'Coding', 'For', 'All' into one string, 'Coding For All'.**"
   ]
  },
  {
   "cell_type": "code",
   "execution_count": 18,
   "metadata": {
    "colab": {
     "base_uri": "https://localhost:8080/"
    },
    "id": "Q-YHaNPp8aDx",
    "outputId": "28eb7cd2-42ce-4f37-d398-1922cc146931"
   },
   "outputs": [
    {
     "name": "stdout",
     "output_type": "stream",
     "text": [
      "Codage Pour Tous\n"
     ]
    }
   ],
   "source": [
    "a = \"Codage\"\n",
    "b = \"Pour\"\n",
    "c = \"Tous\"\n",
    "print(a+\" \"+b+\" \"+c)\n"
   ]
  },
  {
   "cell_type": "markdown",
   "metadata": {
    "id": "CBYAS7io8aD0"
   },
   "source": [
    "#### **Exercice 02:**  \n",
    "> FR:\n",
    "> 1. **Déclarer une variable nommée `compagnie` et lui attribuer une valeur initiale `Coding    For All`.**\n",
    "> 2. **Imprimez la variable `compagnie` en utilisant `print()`.**\n",
    "\n",
    "> EN:\n",
    "> 1. **Declare a variable named `company` and give it an initial value `Coding For All`.**\n",
    "> 2. **Print the variable `company` using `print()`.**\n"
   ]
  },
  {
   "cell_type": "code",
   "execution_count": null,
   "metadata": {
    "colab": {
     "base_uri": "https://localhost:8080/"
    },
    "id": "crZdf6LS8aD2",
    "outputId": "f8c9abb1-f49d-4580-acca-a909fe6d2ba3"
   },
   "outputs": [
    {
     "name": "stdout",
     "output_type": "stream",
     "text": [
      "Coding For All\n"
     ]
    }
   ],
   "source": [
    "compagnie = \"Coding For All\"\n",
    "print(compagnie)"
   ]
  },
  {
   "cell_type": "markdown",
   "metadata": {
    "id": "Sw7GIfGV8aD3"
   },
   "source": [
    "#### **Exercice 03:** \n",
    "> FR:\n",
    ">1. **Imprimez la longueur de la chaîne de la société en utilisant la méthode `len()` et la fonction `print()`.**\n",
    ">2. **Changez tous les caractères en lettres majuscules à l'aide de la méthode `upper()`.**\n",
    ">3. **Changez tous les caractères en minuscules à l'aide de la méthode `lower()`.**\n",
    ">4. **Utilisez les méthodes `capitalize()`, `title()`, `swapcase()` pour formater la valeur de la chaîne `Coding For All\"`.**\n",
    "\n",
    "> EN:\n",
    ">1. **Print the length of the company string using the `len()` method and the `print()` function.**\n",
    ">2. **Change all characters to uppercase using the `upper()` method.**\n",
    ">3. **Change all characters to lowercase using the `lower()` method.**\n",
    ">4. **Use the `capitalize()`, `title()`, `swapcase()` methods to format the value of the `Coding For All\"`string.**\n",
    " "
   ]
  },
  {
   "cell_type": "code",
   "execution_count": 21,
   "metadata": {
    "colab": {
     "base_uri": "https://localhost:8080/"
    },
    "id": "rFntZB6J8aD6",
    "outputId": "888ae2e7-7547-47b4-fa7e-af6350de71a2"
   },
   "outputs": [
    {
     "name": "stdout",
     "output_type": "stream",
     "text": [
      "13\n",
      "#upper()\n",
      "PROGRAMMATION\n",
      "#lower()\n",
      "programmation\n",
      "#capitalize()\n",
      "Coding for all\n",
      "#title()\n",
      "Coding For All\n",
      "#swapcase()\n",
      "cODING fOR aLL\n"
     ]
    }
   ],
   "source": [
    "compagnie = \"Programmation\"\n",
    "#1\n",
    "print(len(compagnie))\n",
    "#2\n",
    "print(\"#upper()\")\n",
    "X = compagnie.upper()\n",
    "print(X)\n",
    "#3 \n",
    "print(\"#lower()\")\n",
    "x = compagnie.lower()\n",
    "print(x)\n",
    "ch = \"Coding For All\"\n",
    "#4 \n",
    "##capitalise()\n",
    "print(\"#capitalize()\")\n",
    "y = ch.capitalize()\n",
    "print(y)\n",
    "## title()\n",
    "print(\"#title()\")\n",
    "z = ch.title()\n",
    "print(z)\n",
    "## swapcase()\n",
    "print(\"#swapcase()\")\n",
    "w = ch.swapcase()\n",
    "print(w)\n"
   ]
  },
  {
   "cell_type": "markdown",
   "metadata": {
    "id": "QOvVg49v8aD9"
   },
   "source": [
    "#### **Exercice 04:** \n",
    ">FR:\n",
    ">1. **Remplacez le mot `Coding` dans la chaîne `Coding For All` par `Python`.**\n",
    ">2. **Divisez la chaîne `Coding For All` en utilisant l'espace comme séparateur `(split())`.**\n",
    ">3. **Quel est le caractère à l'indice 0 dans la chaîne `Coding For All`?**\n",
    ">4. **Quel est le dernier indice de la chaîne `Coding For All` ?**\n",
    "\n",
    ">EN:\n",
    ">1. **Replace the word `Coding` in the `Coding For All` string with `Python`.**\n",
    ">2. **Split the `Coding For All` string using the space as a separator `(split())`.**.\n",
    ">3. **What is the character at index 0 in the string `Coding For All`?**.\n",
    ">4. **What is the last index of the string `Coding For All`?**."
   ]
  },
  {
   "cell_type": "code",
   "execution_count": null,
   "metadata": {
    "colab": {
     "base_uri": "https://localhost:8080/"
    },
    "id": "Q4CYyw1r8aD-",
    "outputId": "21ddc46e-2a00-44d6-e7bb-ae823a5692b9"
   },
   "outputs": [
    {
     "name": "stdout",
     "output_type": "stream",
     "text": [
      "#remplacement de mot\n",
      "Python For All\n",
      "\n",
      "#Divion de chaines\n",
      "['Coding', 'For', 'All']\n",
      "\n",
      "#Le premier et dernier indice \n",
      "Le caractère à l'indice 0 est: C \n",
      "Le dernier caractère est : l\n"
     ]
    }
   ],
   "source": [
    "#1 \n",
    "print(\"#remplacement de mot\")\n",
    "a = compagnie.replace('Coding', 'Python')\n",
    "print(a)\n",
    "#2\n",
    "print(\"\\n#Divion de chaines\")\n",
    "b = compagnie.split()\n",
    "print(b)\n",
    "#3\n",
    "print(\"\\n#Le premier et dernier indice \")\n",
    "#x = len(compagnie)\n",
    "#print(x)\n",
    "print(\"Le caractère à l'indice 0 est:\", compagnie[0], \"\\nLe dernier caractère est :\", compagnie[len(compagnie)-1])\n",
    "\n",
    "#compagnie[13]"
   ]
  },
  {
   "cell_type": "markdown",
   "metadata": {
    "id": "3D3Q3P628aD_"
   },
   "source": [
    "#### **Exercice 05:** \n",
    ">**FR: Etant donné une chaine `__s__`, afficher une chaine faite des deux premiers et\n",
    "des deux derniers caractères.**\n",
    "\n",
    ">**EN: Given a string `__s__`, display a string made of the first two and last two characters the last two characters.**"
   ]
  },
  {
   "cell_type": "code",
   "execution_count": 12,
   "metadata": {
    "id": "LnbrdEnY8aEA"
   },
   "outputs": [
    {
     "name": "stdout",
     "output_type": "stream",
     "text": [
      "Pa   io\n"
     ]
    }
   ],
   "source": [
    "_s_ = 'Passion'\n",
    "print(_s_[0:2], \" \" , _s_[4:6])"
   ]
  },
  {
   "cell_type": "markdown",
   "metadata": {
    "id": "vLipzQ2T8aEA"
   },
   "source": [
    "#### **Exercice 06:** \n",
    "> **FR: Afficher les textes suivants à l’aide d’une seule instruction\n",
    "`print()`** :\n",
    "\n",
    "    un peu\n",
    "    beaucoup\n",
    "    passionnément\n",
    "\n",
    "    \"je t'aime\" dit-elle\n",
    "    \n",
    "    \n",
    "> **EN: Display the following texts with a single statement\n",
    "print()`**     \n",
    "\n",
    "    a little\n",
    "    a lot\n",
    "    passionately\n",
    "\n",
    "    \"I love you\" she says"
   ]
  },
  {
   "cell_type": "code",
   "execution_count": 4,
   "metadata": {
    "id": "N8Y6B2i68aEC"
   },
   "outputs": [
    {
     "name": "stdout",
     "output_type": "stream",
     "text": [
      "un peu beaucoup passionnément  je t 'aime \"dit-elle\"\n"
     ]
    }
   ],
   "source": [
    "ch_1 = 'un peu'\n",
    "ch_2 = 'beaucoup'\n",
    "ch_3 = 'passionnément'\n",
    "ch_4 = ' je t \\'aime \"dit-elle\"'\n",
    "print(ch_1 +\" \"+ ch_2 +\" \"+ ch_3 +\" \"+  ch_4)"
   ]
  },
  {
   "cell_type": "markdown",
   "metadata": {
    "id": "77GI9ooS8aEC"
   },
   "source": [
    "#### **Exercice 07:** \n",
    "> **FR: Écrivez un programme pour vérifier si la lettre 'e' est présente dans le mot 'Parapluie'.**\n",
    "\n",
    "> **EN: Write a program to check if the letter 'e' is present in the word 'Umbrella'.**"
   ]
  },
  {
   "cell_type": "code",
   "execution_count": 9,
   "metadata": {
    "id": "FFdDrMKd8aEE"
   },
   "outputs": [
    {
     "name": "stdout",
     "output_type": "stream",
     "text": [
      "False\n",
      "False\n",
      "False\n",
      "False\n",
      "False\n",
      "False\n",
      "False\n",
      "False\n",
      "True\n"
     ]
    }
   ],
   "source": [
    "ch = 'Parapluie'\n",
    "for i in ch : \n",
    "        if(i=='e'):\n",
    "            print(\"True\")\n",
    "        else:\n",
    "            print(\"False\")"
   ]
  },
  {
   "cell_type": "markdown",
   "metadata": {
    "id": "fQPHnxs18aEE"
   },
   "source": [
    "#### **Exercice 08:** \n",
    "> **FR: Demandez à l'utilisateur de saisir son prénom et son nom de famille en réponse à une seule invite. Utilisez `split()` pour extraire les noms, puis affectez chaque nom à une variable différente.**\n",
    "\n",
    "> **EN: Ask the user to enter their first and last name in response to a single prompt. Use `split()` to extract the names, then assign each name to a different variable.**"
   ]
  },
  {
   "cell_type": "code",
   "execution_count": null,
   "metadata": {
    "id": "TINJOu3g8aEG"
   },
   "outputs": [],
   "source": [
    "nom_prenom = input(\"Entrez votre prenom et votre nom de famille :\")"
   ]
  },
  {
   "cell_type": "markdown",
   "metadata": {
    "id": "cT6btvDz8aER"
   },
   "source": [
    "#### **Exercice 09:** \n",
    "> **FR: Demandez à l'utilisateur de saisir un mot, puis imprimez la longueur de ce mot.**\n",
    "\n",
    "> **EN: Ask the user to enter a word, then print the length of the word.**\n"
   ]
  },
  {
   "cell_type": "code",
   "execution_count": 10,
   "metadata": {
    "id": "feE7z0Q18aET"
   },
   "outputs": [
    {
     "name": "stdout",
     "output_type": "stream",
     "text": [
      "Saisissez un mot : tata\n",
      "4\n"
     ]
    }
   ],
   "source": [
    "mot = input(\"Saisissez un mot : \")\n",
    "print(len(mot))"
   ]
  },
  {
   "cell_type": "markdown",
   "metadata": {
    "id": "QGb8rYYT8aET"
   },
   "source": [
    "#### **Exercice 10:** \n",
    "> **FR: Écrivez un programme pour vérifier si le mot \"orange\" est présent dans l'expression \"Ceci est du jus d'orange\".**\n",
    "\n",
    ">**EN: Write a program to check if the word \"orange\" is present in the expression \"This is orange juice\".**"
   ]
  },
  {
   "cell_type": "code",
   "execution_count": 26,
   "metadata": {
    "id": "uLC2XFSq8aEU"
   },
   "outputs": [
    {
     "name": "stdout",
     "output_type": "stream",
     "text": [
      "True\n"
     ]
    }
   ],
   "source": [
    "chaine = \"Ceci est un jus d'orange\"\n",
    "print(\"orange\" in chaine)"
   ]
  },
  {
   "cell_type": "markdown",
   "metadata": {
    "id": "F4_j1vsN8aEU"
   },
   "source": [
    "#### **Exercice 11:** \n",
    "> **FR: Ecrivez un programme pour trouver la première et la dernière occurrence de la lettre 'o' et du caractère ',' dans \"Hello, World\".**\n",
    "\n",
    "> **EN: Write a program to find the first and last occurrence of the letter 'o' and the character ',' in \"Hello, World\".**"
   ]
  },
  {
   "cell_type": "code",
   "execution_count": 28,
   "metadata": {
    "id": "GAMvzqzX8aEV"
   },
   "outputs": [
    {
     "name": "stdout",
     "output_type": "stream",
     "text": [
      "Première occurence de o:4\n",
      "Dernière occurence de o:8\n"
     ]
    }
   ],
   "source": [
    "chaine=\"Hello, world\"\n",
    "print(\"Première occurence de o:\"+str(chaine.find('o')))\n",
    "print(\"Dernière occurence de o:\"+str(chaine.rfind('o')))"
   ]
  },
  {
   "cell_type": "markdown",
   "metadata": {
    "id": "r_CQjIqd8aEW"
   },
   "source": [
    "#### **Exercice 12:** \n",
    "> **FR: Écrivez un programme qui prend votre nom complet en entrée et affiche les abréviations du prénom et du second prénom, sauf le nom de famille qui est affiché tel quel. Par exemple, si votre nom est `Robert Brett Roser`, le résultat devrait être `R.B.Roser`.**\n",
    "\n",
    ">**EN: Write a program that takes your full name as input and displays the first and middle name abbreviations, except for the last name which is displayed as is. For example, if your name is `Robert Brett Roser`, the result should be `R.B.Roser`.**"
   ]
  },
  {
   "cell_type": "code",
   "execution_count": 29,
   "metadata": {
    "id": "NNWynb7Y8aEW"
   },
   "outputs": [
    {
     "name": "stdout",
     "output_type": "stream",
     "text": [
      "Saisissez votre nom complet : Esther Jesuwame DJOI\n",
      "E.J.DJOI\n"
     ]
    }
   ],
   "source": [
    "info = input(\"Saisissez votre nom complet : \")\n",
    "extraction=info.split()\n",
    "prenom1=extraction[0]\n",
    "prenom2=extraction[1]\n",
    "nom=extraction[2]\n",
    "print(prenom1[0]+\".\"+prenom2[0]+\".\"+nom)"
   ]
  },
  {
   "cell_type": "markdown",
   "metadata": {
    "id": "2DkugJeo8aEW"
   },
   "source": [
    "#### **Exercice 13:** \n",
    "> **FR: Écrivez un programme pour trouver le plus grand et le plus petit mot dans la chaîne \"Ceci est un parapluie\".** \n",
    "\n",
    ">**EN: Write a program to find the largest and smallest words in the string \"This is an umbrella\".**"
   ]
  },
  {
   "cell_type": "code",
   "execution_count": 32,
   "metadata": {
    "id": "NxVgnPk-8aEW"
   },
   "outputs": [
    {
     "name": "stdout",
     "output_type": "stream",
     "text": [
      "Le plus grand mot dans la chaine est: parapluie.\n",
      "Le plus petit mot dans la chaine est :un.\n"
     ]
    }
   ],
   "source": [
    "chaine=\"Ceci est un parapluie\"\n",
    "list_str=chaine.split()\n",
    "list_length=[len(list_str[0]),len(list_str[1]), len(list_str[2]), len(list_str[3])]\n",
    "maximum=max(list_length)\n",
    "minimum=min(list_length)\n",
    "index_of_max=list_length.index(maximum)\n",
    "index_of_min=list_length.index(minimum)\n",
    "print(\"Le plus grand mot dans la chaine est: \"+list_str[index_of_max]+\".\")\n",
    "print(\"Le plus petit mot dans la chaine est :\"+list_str[index_of_min]+\".\")"
   ]
  },
  {
   "cell_type": "markdown",
   "metadata": {
    "id": "BOXwh7TP8aEW"
   },
   "source": [
    "#### **Exercice 14:** \n",
    "> **FR: Écrivez un programme pour créer une nouvelle chaîne de caractères avec le mot `le` supprimé dans la phrase `C'est le lion dans la cage`.**\n",
    "\n",
    ">**EN: Write a program to create a new string with the word `the` deleted in the sentence `This is the lion in the cage`.**"
   ]
  },
  {
   "cell_type": "code",
   "execution_count": 37,
   "metadata": {
    "id": "EDkYOKMb8aEX"
   },
   "outputs": [
    {
     "name": "stdout",
     "output_type": "stream",
     "text": [
      "C'est   lion dans la cage\n"
     ]
    }
   ],
   "source": [
    "chaine = \"C'est le lion dans la cage\"\n",
    "new_chaine = chaine.replace(\"le\",\" \")\n",
    "print(new_chaine)"
   ]
  },
  {
   "cell_type": "markdown",
   "metadata": {
    "id": "yh9w0U9j8aEX"
   },
   "source": [
    "#### **Exercice 14:** \n",
    "> **FR:Créez un programme qui demande à l'utilisateur d'entrer son nom et son âge en 2021. Imprimez un message qui lui est adressé et qui lui indique l'année où il aura 100 ans.**\n",
    "\n",
    ">**EN: Create a program that asks the user to enter their name and age in 2021. Print a message to the user that tells them the year they will be 100 years old.**"
   ]
  },
  {
   "cell_type": "code",
   "execution_count": 38,
   "metadata": {
    "id": "GvFyoDRa8aEY"
   },
   "outputs": [
    {
     "name": "stdout",
     "output_type": "stream",
     "text": [
      "Entrez votre nom :DJOI\n",
      "Entrez votre prenom :Esther\n",
      "Entrez votre age :22\n",
      "DJOI Esther ,vous aurez 100 ans en 2099\n"
     ]
    }
   ],
   "source": [
    "nom=input(\"Entrez votre nom :\")\n",
    "prenom=input(\"Entrez votre prenom :\")\n",
    "age=int(input(\"Entrez votre age :\"))\n",
    "annee=2021+100-age\n",
    "print(nom,prenom,\",vous aurez 100 ans en\", annee)"
   ]
  },
  {
   "cell_type": "markdown",
   "metadata": {
    "id": "2-Sc_vhb8aEY"
   },
   "source": [
    "#### **Exercice 15:** \n",
    "> **FR:Définissez la variable `x` comme la chaîne de caractères `x`= \"abcde\" .**\n",
    ">1. **Quelle est la valuer de 3*x?**\n",
    ">2. **Quelle est la valuer de x[1]?**\n",
    ">3. **Quelle est la valuer de x[-1]?**\n",
    ">4. **Quelle est la valuer de x[::2]?**\n",
    "\n",
    ">**EN: Set the variable `x` as the string `x`=\"abcde\" .**.\n",
    ">1. **What is the value of 3*x?**\n",
    ">2. **What is the value of x[1]?**\n",
    ">3. **What is the value of x[-1]?**.\n",
    ">4. **What is the value of x[::2]?**"
   ]
  },
  {
   "cell_type": "code",
   "execution_count": 39,
   "metadata": {
    "id": "E9WabTUf8aEZ"
   },
   "outputs": [
    {
     "name": "stdout",
     "output_type": "stream",
     "text": [
      "1. abcdeabcdeabcde\n",
      "2. b\n",
      "3. e\n",
      "4. ace\n"
     ]
    }
   ],
   "source": [
    "x=\"abcde\"\n",
    "print(\"1.\",3*x)\n",
    "print(\"2.\",x[1])\n",
    "print(\"3.\", x[-1])\n",
    "print(\"4.\",x[::2])"
   ]
  },
  {
   "cell_type": "markdown",
   "metadata": {
    "id": "sFtnj29L8aEa"
   },
   "source": [
    "#### **Exercice 16:** \n",
    ">**FR:Créez une chaîne unique contenant 5 copies de la chaîne 'abc'.**\n",
    "\n",
    ">**EN:Create a single string containing 5 copies of the string 'abc'.**"
   ]
  },
  {
   "cell_type": "code",
   "execution_count": 40,
   "metadata": {
    "id": "BJ12q8Dp8aEb"
   },
   "outputs": [
    {
     "name": "stdout",
     "output_type": "stream",
     "text": [
      "abcabcabcabcabc\n"
     ]
    }
   ],
   "source": [
    "chaine = 5*'abc'\n",
    "print(chaine)"
   ]
  },
  {
   "cell_type": "markdown",
   "metadata": {
    "id": "OmIC91BU8aEc"
   },
   "source": [
    "#### **Exercice 17:** \n",
    ">**FR:Utilisez l'opérateur de multiplication pour créer une \"ligne\" de 50 tirets.**\n",
    "\n",
    ">**EN:Use the multiplication operator to create a \"line\" of 50 dashes.**"
   ]
  },
  {
   "cell_type": "code",
   "execution_count": 41,
   "metadata": {
    "id": "9ruTWtlx8aEe"
   },
   "outputs": [
    {
     "name": "stdout",
     "output_type": "stream",
     "text": [
      "--------------------------------------------------\n"
     ]
    }
   ],
   "source": [
    "ligne=50*'-'\n",
    "print(ligne)"
   ]
  },
  {
   "cell_type": "markdown",
   "metadata": {
    "id": "Y8H6ln1_8aEi"
   },
   "source": [
    "#### **Exercice 18:** \n",
    ">**FR: Ecrire un programme qui demande a l'utilisateur d'entrer la temperature en degres celsius et qui retourne la temperaure en degre Fahrenheit. Formule: (0°C × 9/5) + 32 = 32°F .**\n",
    "\n",
    ">**EN: Write a program that asks the user to enter the temperature in degrees Celsius and returns the temperature in degrees Fahrenheit. Formula: (0°C × 9/5) + 32 = 32°F .**"
   ]
  },
  {
   "cell_type": "code",
   "execution_count": 42,
   "metadata": {
    "id": "6WTyRFR08aEj"
   },
   "outputs": [
    {
     "name": "stdout",
     "output_type": "stream",
     "text": [
      "Entrez la température en degré :25\n",
      "La temperature en degré Fahrenheit est :  77.0\n"
     ]
    }
   ],
   "source": [
    "T=input(\"Entrez la température en degré :\")\n",
    "f=(int(T)*9/5)+32\n",
    "print(\"La temperature en degré Fahrenheit est : \",f)"
   ]
  },
  {
   "cell_type": "markdown",
   "metadata": {
    "id": "nFg9Kr2q8aEk"
   },
   "source": [
    "\n",
    "\n",
    "<center> <b> <span style=\"color:orange;\"> 🎉 FÉLICITATIONS! / CONGRATULATIONS! 🎉 </span> </b></center>"
   ]
  }
 ],
 "metadata": {
  "colab": {
   "collapsed_sections": [],
   "name": "In2Py_TP_02.ipynb",
   "provenance": []
  },
  "kernelspec": {
   "display_name": "Python 3 (ipykernel)",
   "language": "python",
   "name": "python3"
  },
  "language_info": {
   "codemirror_mode": {
    "name": "ipython",
    "version": 3
   },
   "file_extension": ".py",
   "mimetype": "text/x-python",
   "name": "python",
   "nbconvert_exporter": "python",
   "pygments_lexer": "ipython3",
   "version": "3.8.10"
  }
 },
 "nbformat": 4,
 "nbformat_minor": 1
}
