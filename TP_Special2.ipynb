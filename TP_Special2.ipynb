{
 "cells": [
  {
   "cell_type": "markdown",
   "id": "1478f0d7",
   "metadata": {},
   "source": [
    "Exercice1"
   ]
  },
  {
   "cell_type": "code",
   "execution_count": null,
   "id": "a8274485",
   "metadata": {},
   "outputs": [],
   "source": [
    "import math \n",
    "x=int(input(\"Entrez un entier non nul : \"))\n",
    "while x ==0:\n",
    "    x=int(input(\"Entrez un entier non null : \"))\n",
    "y=int(input(\"Entrez un second entier : \"))\n",
    "result = ((x**(2+y))**(1/2))/((1/x) +math.sin(y))\n",
    "print(result)"
   ]
  },
  {
   "cell_type": "code",
   "execution_count": 6,
   "id": "581a806e",
   "metadata": {},
   "outputs": [
    {
     "name": "stdout",
     "output_type": "stream",
     "text": [
      "Entrez un entier : 4\n",
      "Entrez un entier strictement positif : 3\n",
      "4 ^ 3 = 64\n"
     ]
    }
   ],
   "source": [
    "#Exercice 2\n",
    "def ownpowerfn(b,n):\n",
    "    p=1\n",
    "    for i in range(n):\n",
    "        p=p*b\n",
    "    return p\n",
    "b=int(input(\"Entrez un entier : \"))\n",
    "n=int(input(\"Entrez un entier strictement positif : \"))\n",
    "while n<=0:\n",
    "    n=int(input(\"Entrez un entier strictement positif : \"))\n",
    "print(b,\"^\",n,\"=\",ownpowerfn(b,n))"
   ]
  },
  {
   "cell_type": "markdown",
   "id": "9c1aac7f",
   "metadata": {},
   "source": [
    "Exercice 3"
   ]
  },
  {
   "cell_type": "markdown",
   "id": "1f4576c6",
   "metadata": {},
   "source": [
    "a)"
   ]
  },
  {
   "cell_type": "code",
   "execution_count": 15,
   "id": "2f8b7c87",
   "metadata": {},
   "outputs": [],
   "source": [
    "def arithmetic_mean(x,y):\n",
    "    return (x+y)/2\n",
    "def geometric_mean(x,y):\n",
    "    return (x*y)**(1/2)\n",
    "\n"
   ]
  },
  {
   "cell_type": "code",
   "execution_count": 13,
   "id": "ec9367de",
   "metadata": {},
   "outputs": [
    {
     "data": {
      "text/plain": [
       "3.5"
      ]
     },
     "execution_count": 13,
     "metadata": {},
     "output_type": "execute_result"
    }
   ],
   "source": [
    "arithmetic_mean(5,2)"
   ]
  },
  {
   "cell_type": "code",
   "execution_count": 14,
   "id": "1796b031",
   "metadata": {},
   "outputs": [
    {
     "data": {
      "text/plain": [
       "3.1622776601683795"
      ]
     },
     "execution_count": 14,
     "metadata": {},
     "output_type": "execute_result"
    }
   ],
   "source": [
    "geometric_mean(5,2)"
   ]
  },
  {
   "cell_type": "markdown",
   "id": "d7ed1d8f",
   "metadata": {},
   "source": [
    "b)"
   ]
  },
  {
   "cell_type": "code",
   "execution_count": 17,
   "id": "fd27b47a",
   "metadata": {},
   "outputs": [],
   "source": [
    "def celsius_to_fahrenheit(c):\n",
    "    return c*(9/5)+32\n",
    "def fahrenheit_to_celsius(f):\n",
    "    return (5/9)*(f-32)"
   ]
  },
  {
   "cell_type": "code",
   "execution_count": 18,
   "id": "70720d29",
   "metadata": {},
   "outputs": [
    {
     "data": {
      "text/plain": [
       "77.0"
      ]
     },
     "execution_count": 18,
     "metadata": {},
     "output_type": "execute_result"
    }
   ],
   "source": [
    "celsius_to_fahrenheit(25)"
   ]
  },
  {
   "cell_type": "code",
   "execution_count": 20,
   "id": "e0150e0d",
   "metadata": {},
   "outputs": [
    {
     "data": {
      "text/plain": [
       "25.0"
      ]
     },
     "execution_count": 20,
     "metadata": {},
     "output_type": "execute_result"
    }
   ],
   "source": [
    "fahrenheit_to_celsius(77)"
   ]
  },
  {
   "cell_type": "markdown",
   "id": "266f1dc0",
   "metadata": {},
   "source": [
    "c)"
   ]
  },
  {
   "cell_type": "code",
   "execution_count": 22,
   "id": "55986bf4",
   "metadata": {},
   "outputs": [],
   "source": [
    "def degrees_to_radian(deg):\n",
    "    return 0.0174533*deg\n",
    "def radians_to_degrees(rad):\n",
    "    return 57.296*rad"
   ]
  },
  {
   "cell_type": "code",
   "execution_count": 23,
   "id": "4ca76d98",
   "metadata": {},
   "outputs": [
    {
     "data": {
      "text/plain": [
       "0.0698132"
      ]
     },
     "execution_count": 23,
     "metadata": {},
     "output_type": "execute_result"
    }
   ],
   "source": [
    "degrees_to_radian(4)"
   ]
  },
  {
   "cell_type": "code",
   "execution_count": 24,
   "id": "25742b3e",
   "metadata": {},
   "outputs": [
    {
     "data": {
      "text/plain": [
       "120.3216"
      ]
     },
     "execution_count": 24,
     "metadata": {},
     "output_type": "execute_result"
    }
   ],
   "source": [
    "radians_to_degrees(2.1)"
   ]
  },
  {
   "cell_type": "markdown",
   "id": "15625d41",
   "metadata": {},
   "source": [
    "d)"
   ]
  },
  {
   "cell_type": "code",
   "execution_count": 25,
   "id": "6e19d902",
   "metadata": {},
   "outputs": [],
   "source": [
    "def circumference(rayon):\n",
    "    return 3.14*2*rayon\n",
    "def area(rayon):\n",
    "    return 3.14*rayon*rayon"
   ]
  },
  {
   "cell_type": "code",
   "execution_count": 26,
   "id": "959b0105",
   "metadata": {},
   "outputs": [
    {
     "data": {
      "text/plain": [
       "31.400000000000002"
      ]
     },
     "execution_count": 26,
     "metadata": {},
     "output_type": "execute_result"
    }
   ],
   "source": [
    "circumference(5)"
   ]
  },
  {
   "cell_type": "code",
   "execution_count": 27,
   "id": "ad992aa5",
   "metadata": {},
   "outputs": [
    {
     "data": {
      "text/plain": [
       "78.5"
      ]
     },
     "execution_count": 27,
     "metadata": {},
     "output_type": "execute_result"
    }
   ],
   "source": [
    "area(5)"
   ]
  },
  {
   "cell_type": "markdown",
   "id": "4080e4da",
   "metadata": {},
   "source": [
    "Exercice 4"
   ]
  },
  {
   "cell_type": "markdown",
   "id": "91666cfc",
   "metadata": {},
   "source": [
    "a)"
   ]
  },
  {
   "cell_type": "code",
   "execution_count": 29,
   "id": "b46d16cf",
   "metadata": {},
   "outputs": [
    {
     "name": "stdout",
     "output_type": "stream",
     "text": [
      "Arithmetic_mean =  10.5105\tGeometric_mean =  9.503420436874293\n",
      "Arithmetic_mean =  10.006960218437147\tGeometric_mean =  9.994283391107501\n",
      "Arithmetic_mean =  10.000621804772324\tGeometric_mean =  10.000619796122631\n",
      "Arithmetic_mean =  10.000620800447479\tGeometric_mean =  10.000620800447427\n",
      "Arithmetic_mean =  10.000620800447454\tGeometric_mean =  10.000620800447454\n",
      "Arithmetic_mean =  10.000620800447454\tGeometric_mean =  10.000620800447454\n",
      "Arithmetic_mean =  10.000620800447454\tGeometric_mean =  10.000620800447454\n",
      "Arithmetic_mean =  10.000620800447454\tGeometric_mean =  10.000620800447454\n",
      "Arithmetic_mean =  10.000620800447454\tGeometric_mean =  10.000620800447454\n",
      "Arithmetic_mean =  10.000620800447454\tGeometric_mean =  10.000620800447454\n"
     ]
    }
   ],
   "source": [
    "def avggeom(x,y):\n",
    "    Ari_mean = (x+y)/2\n",
    "    Geo_mean = (x*y)**(1/2)\n",
    "    print(\"Arithmetic_mean = \",Ari_mean ,end='\\t')\n",
    "    print(\"Geometric_mean = \",Geo_mean)\n",
    "    return Ari_mean,Geo_mean\n",
    "a = 6.021\n",
    "b = 15\n",
    "for i in range (10):\n",
    "    tmp = avggeom(a,b)\n",
    "    a = tmp[0]\n",
    "    b = tmp[1]"
   ]
  },
  {
   "cell_type": "markdown",
   "id": "8447f36e",
   "metadata": {},
   "source": [
    "b)"
   ]
  },
  {
   "cell_type": "code",
   "execution_count": 33,
   "id": "73379f4a",
   "metadata": {},
   "outputs": [
    {
     "name": "stdout",
     "output_type": "stream",
     "text": [
      "Le perimetre du triangle est :  12.19012549796275\n",
      "L'aire du triangle est :  3.179586801558725\n"
     ]
    }
   ],
   "source": [
    "def distancefn(a,b):\n",
    "    x1,y1,x2,y2 = a[0],a[1],b[0],b[1]\n",
    "    distance = (((x2-x1)**2)+((y2-y1)**2))**(0.5)\n",
    "    return distance \n",
    "A= [1,3]\n",
    "B= [3,4]\n",
    "C= [4,8]\n",
    "perimeter = distancefn(A,B) + distancefn(B,C) + distancefn(C,A)\n",
    "print(\"Le perimetre du triangle est : \", perimeter)\n",
    "area = (distancefn(A,B) + distancefn(B,C))/2\n",
    "print(\"L'aire du triangle est : \", area)"
   ]
  },
  {
   "cell_type": "markdown",
   "id": "c8694c52",
   "metadata": {},
   "source": [
    "Exercice 5"
   ]
  },
  {
   "cell_type": "code",
   "execution_count": null,
   "id": "f3716758",
   "metadata": {},
   "outputs": [],
   "source": [
    "def fact2nddeg():\n",
    "    choice = 1\n",
    "    while choice in {1,2}:\n",
    "        print(\".....MENU......\")\n",
    "        print(\"1. Evaluation d'un factoriel\")\n",
    "        print(\"2. Evaluation d'un polynôme\")\n",
    "        print(\"3. Quitter\")\n",
    "        choice= int(input(\"Effectuez un choix parmi les trois !\"))\n",
    "        \n",
    "    if choice ==1 :\n",
    "        n = int(input(\"Entrez un  nombre entier positif :\"))\n",
    "        while n<0:\n",
    "            n = int(input(\"Entrez un  nombre entier positif s'il vous plait :\"))\n",
    "        if n == 0:\n",
    "            print(\"0! = 1\")\n",
    "        else :\n",
    "            fact = 1\n",
    "        for i in range (1,n+1):\n",
    "            fact = fact*i\n",
    "            print(n,\"! = \", fact)\n",
    "    elif choice == 2 :\n",
    "            a=int(input(\"Entrez le coefficient de x² : \"))\n",
    "            b=int(input(\"Entrez le coefficient de x : \"))\n",
    "            c=int(input(\"Entrez le  terme constant : \"))\n",
    "            x=int(input(\"Entrez la valeur de x :\"))\n",
    "            res = a*(x**2)+b*x+c\n",
    "            print(\"P(\",x,\") = \", a,\"(\",x,\"²)\",\"+\",b,x,\"+\",c, \"=\", res)\n",
    "            \n",
    "fact2nddeg()         "
   ]
  },
  {
   "cell_type": "markdown",
   "id": "3c4701e1",
   "metadata": {},
   "source": [
    "Exercice 6"
   ]
  },
  {
   "cell_type": "code",
   "execution_count": 52,
   "id": "acd4d722",
   "metadata": {},
   "outputs": [
    {
     "data": {
      "text/plain": [
       "128"
      ]
     },
     "execution_count": 52,
     "metadata": {},
     "output_type": "execute_result"
    }
   ],
   "source": [
    "def power(x,n):\n",
    "    if n ==0:\n",
    "        return 1\n",
    "    else :\n",
    "        return x*power(x,n-1)\n",
    "power(2,7)"
   ]
  },
  {
   "cell_type": "markdown",
   "id": "fd583ca0",
   "metadata": {},
   "source": [
    "Exercice 7"
   ]
  },
  {
   "cell_type": "code",
   "execution_count": 53,
   "id": "341b1bdf",
   "metadata": {},
   "outputs": [],
   "source": [
    "def fibonacci(n):\n",
    "    a=0\n",
    "    b=1\n",
    "    if n>=0:\n",
    "        if n==0:\n",
    "            print(n)\n",
    "        elif n==1:\n",
    "            print(a,\" \", b)\n",
    "        else :\n",
    "            print(a,\"  \", b)\n",
    "            for i in range (2,n):\n",
    "                val = a+b\n",
    "                print(val,\"  \")\n",
    "                a=b\n",
    "                b =val\n",
    "                \n",
    "        "
   ]
  },
  {
   "cell_type": "code",
   "execution_count": null,
   "id": "55027042",
   "metadata": {},
   "outputs": [],
   "source": []
  }
 ],
 "metadata": {
  "kernelspec": {
   "display_name": "Python 3 (ipykernel)",
   "language": "python",
   "name": "python3"
  },
  "language_info": {
   "codemirror_mode": {
    "name": "ipython",
    "version": 3
   },
   "file_extension": ".py",
   "mimetype": "text/x-python",
   "name": "python",
   "nbconvert_exporter": "python",
   "pygments_lexer": "ipython3",
   "version": "3.8.10"
  }
 },
 "nbformat": 4,
 "nbformat_minor": 5
}
