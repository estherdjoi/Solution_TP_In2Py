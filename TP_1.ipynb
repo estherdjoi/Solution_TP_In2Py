{
 "cells": [
  {
   "cell_type": "markdown",
   "id": "8cde66e3",
   "metadata": {
    "id": "22f02e1a"
   },
   "source": [
    "\n",
    "### <center> <b> <span style=\"color:blue;\"> Travaux Pratiques: Variables, Types & Opérations </span> </b></center>"
   ]
  },
  {
   "cell_type": "markdown",
   "id": "0f6d974b",
   "metadata": {
    "id": "ddc667e7"
   },
   "source": [
    "**Exercise 00:**  \n",
    ">\n",
    "\n",
    "  \n",
    "> 1. Déclarez une variable `prenom` et attribuez-lui une valeur.\n",
    "  > 2. Déclarez une variable `nom` et attribuez-lui une valeur.\n",
    "  > 3. Déclarez une variable `prenom_nom` et attribuez-lui une valeur.\n",
    "  > 4. Déclarez une variable `pays` et attribuez-lui une valeur.\n",
    "  > 5. Déclarez une variable `ville` et attribuez-lui une valeur.\n",
    "  > 6. Déclarez une variable `age` et attribuez-lui une valeur.\n",
    "  > 7. Déclarez une variable `annee` et attribuez-lui une valeur.\n",
    "  > 8. Déclarez une variable `est_marie` et attribuez-lui une valeur.\n",
    "  > 9. Déclarez une variable `est_vrai` et attribuez-lui une valeur.\n",
    "\n",
    "> Pour chacune des variables ci-dessus, affichez la valeur qu'elle contient à l'aide de la fonction `print()`.\n",
    "\n"
   ]
  },
  {
   "cell_type": "code",
   "execution_count": 3,
   "id": "c01df256",
   "metadata": {
    "id": "ebd3951d"
   },
   "outputs": [
    {
     "name": "stdout",
     "output_type": "stream",
     "text": [
      "Esther\n",
      "================================================\n",
      "\t\n",
      "DJOI\n",
      "================================================\n",
      "\t\n",
      "Esther DJOI\n",
      "================================================\n",
      "\t\n",
      "Benin\n",
      "================================================\n",
      "\t\n",
      "Dangbo\n",
      "================================================\n",
      "\t\n",
      "22\n",
      "================================================\n",
      "\t\n",
      "2022\n",
      "================================================\n",
      "\t\n",
      "Marie\n",
      "================================================\n",
      "\t\n",
      "Vrai\n",
      "================================================\n",
      "\t\n"
     ]
    }
   ],
   "source": [
    "prenom = 'Esther'\n",
    "print (prenom)\n",
    "print(\"================================================\")\n",
    "print('\\t')\n",
    "nom =  'DJOI' \n",
    "print (nom)\n",
    "print(\"================================================\")\n",
    "print('\\t')\n",
    "prenom_nom = 'Esther DJOI'\n",
    "print (prenom_nom)\n",
    "print(\"================================================\")\n",
    "print('\\t')\n",
    "pays = 'Benin'\n",
    "print (pays)\n",
    "print(\"================================================\")\n",
    "print('\\t')\n",
    "ville = 'Dangbo'\n",
    "print (ville)\n",
    "print(\"================================================\")\n",
    "print('\\t')\n",
    "age = 22 \n",
    "print (age)\n",
    "print(\"================================================\")\n",
    "print('\\t')\n",
    "annee = 2022\n",
    "print (annee)\n",
    "print(\"================================================\")\n",
    "print('\\t')\n",
    "est_marie = 'Marie'\n",
    "print (est_marie)\n",
    "print(\"================================================\")\n",
    "print('\\t')\n",
    "est_vrai = 'Vrai'\n",
    "print (est_vrai)\n",
    "print(\"================================================\")\n",
    "print('\\t')\n"
   ]
  },
  {
   "cell_type": "markdown",
   "id": "daa7ff10",
   "metadata": {
    "id": "85eb4f96"
   },
   "source": [
    "**Exercise 01:** \n",
    "> Vérifiez le type de données de toutes vos variables à l'aide de la fonction intégrée `type()`.**\n"
   ]
  },
  {
   "cell_type": "code",
   "execution_count": 14,
   "id": "9d37e471",
   "metadata": {
    "id": "c5c47124"
   },
   "outputs": [],
   "source": [
    "#type(prenom)\n",
    "#type(nom)\n",
    "#type(prenom_nom)\n",
    "#type(ville)\n",
    "#type(age)\n",
    "#type (annee)\n",
    "#type(est_marie)\n",
    "#type(est_vrai)\n",
    "#Décommenter pour avoir le type "
   ]
  },
  {
   "cell_type": "markdown",
   "id": "3b213b74",
   "metadata": {
    "id": "76cdc19b"
   },
   "source": [
    "**Exercise 02:** \n",
    "> Calculez la valeur de $y$ ($y = x^2 + 6x + 9$). Essayez d'utiliser différentes valeurs de $x$ et déterminez à quelle valeur de $x$ $y$ sera égal à 0.**"
   ]
  },
  {
   "cell_type": "code",
   "execution_count": 17,
   "id": "551e1ef9",
   "metadata": {
    "id": "fb4df11a"
   },
   "outputs": [
    {
     "name": "stdout",
     "output_type": "stream",
     "text": [
      "9\n",
      "================================================\n",
      "16\n",
      "================================================\n",
      "4\n",
      "================================================\n",
      "25\n",
      "================================================\n",
      "1\n",
      "================================================\n",
      "36\n",
      "================================================\n",
      "0\n",
      "================================================\n"
     ]
    }
   ],
   "source": [
    "x = 0\n",
    "y = x*x + 6*x + 9\n",
    "print(y)\n",
    "print(\"================================================\")\n",
    "x = 1\n",
    "y = x*x + 6*x + 9\n",
    "print(y)\n",
    "print(\"================================================\")\n",
    "x = -1\n",
    "y = x*x + 6*x + 9\n",
    "print(y)\n",
    "print(\"================================================\")\n",
    "x = 2\n",
    "y = x*x + 6*x + 9\n",
    "print(y)\n",
    "print(\"================================================\")\n",
    "x = -2\n",
    "y = x*x + 6*x + 9\n",
    "print(y)\n",
    "print(\"================================================\")\n",
    "x = 3\n",
    "y = x*x + 6*x + 9\n",
    "print(y)\n",
    "print(\"================================================\")\n",
    "x = -3\n",
    "y = x*x + 6*x + 9\n",
    "print(y)\n",
    "print(\"================================================\")"
   ]
  },
  {
   "cell_type": "markdown",
   "id": "56dcbd41",
   "metadata": {
    "id": "8f40e3ab"
   },
   "source": [
    "**Exercise 03:** \n",
    ">    \n",
    "\n",
    "     1. Déclarez votre âge sous forme de variable entière\n",
    "     2. Déclarez votre taille en tant que variable flottante\n",
    "     3. Déclarez une variable qui stocke la base et la hauteur d'un triangle. Calculez l'aire de ce triangle (aire = 0,5 x b x h)."
   ]
  },
  {
   "cell_type": "code",
   "execution_count": 25,
   "id": "4ab4ce57",
   "metadata": {
    "id": "rpAlhgG_9A5z"
   },
   "outputs": [
    {
     "name": "stdout",
     "output_type": "stream",
     "text": [
      "Entrez la  base : 2\n",
      "Entrez la hauteur : 2\n",
      "L'aire du triangle est \n",
      "2.0\n"
     ]
    }
   ],
   "source": [
    "age = 22\n",
    "taille = 1.58\n",
    "base = input(\"Entrez la  base : \")\n",
    "hauteur = input(\"Entrez la hauteur : \")\n",
    "aire = (0.5)*float(base)*float(hauteur)\n",
    "print(\"L'aire du triangle est :\")\n",
    "print(aire)\n",
    "    "
   ]
  },
  {
   "cell_type": "markdown",
   "id": "dea7555d",
   "metadata": {
    "id": "9957391d"
   },
   "source": [
    "## *Astuce : recevoir les entrées de l'utilisateur *\n",
    "**Pour recevoir une entrée de l'utilisateur, nous utilisons `input()`.**.\n",
    "\n",
    "**Exemple**\n",
    "Recevez deux nombres en entrée de l'utilisateur et calculez leur puissance :\n",
    "```python\n",
    "base = input(\"Entrez une base : \")\n",
    "exposant = input(\"Entrez un exposant : \")\n",
    "resultat = float(base) ** float(exposant)\n",
    "print(f \"{base} à la puissance {exposant} = {résultat}\")\n",
    "```"
   ]
  },
  {
   "cell_type": "markdown",
   "id": "69a6ed72",
   "metadata": {
    "id": "0fb34716"
   },
   "source": [
    "**Exercise 04:** \n",
    "> **Write a small code that asks the user to enter the side $a$, the side $b$ and the side $c$ of a triangle. Calculate the perimeter of the triangle (perimeter = a + b + c).**"
   ]
  },
  {
   "cell_type": "code",
   "execution_count": 26,
   "id": "facf383d",
   "metadata": {
    "id": "6618f067"
   },
   "outputs": [
    {
     "name": "stdout",
     "output_type": "stream",
     "text": [
      "Entrez la valeur du premier coté du triangle : 5\n",
      "Entrez la valeur du deuxième coté du triangle : 8\n",
      "Entrez la valeur du troisième coté du triangle : 9\n",
      "Le perimètre du triangle est : \n",
      "22\n"
     ]
    }
   ],
   "source": [
    "a = input(\"Entrez la valeur du premier coté du triangle : \")\n",
    "b = input(\"Entrez la valeur du deuxième coté du triangle : \")\n",
    "c = input(\"Entrez la valeur du troisième coté du triangle : \")\n",
    "perimètre = float (a) + float (b) + float (c)\n",
    "print(\"Le perimètre du triangle est : \")\n",
    "print(perimètre)"
   ]
  },
  {
   "cell_type": "markdown",
   "id": "ff193a06",
   "metadata": {
    "id": "e482c15c"
   },
   "source": [
    "**Exercise 05:** \n",
    "> **Obtenez la longueur et la largeur d'un rectangle à l'aide de l'invite. Calculer sa `superficie` et son `perimetre`.**"
   ]
  },
  {
   "cell_type": "code",
   "execution_count": 29,
   "id": "4b02ede8",
   "metadata": {
    "id": "286cec4c"
   },
   "outputs": [
    {
     "name": "stdout",
     "output_type": "stream",
     "text": [
      "Entrez la longueur du rectangle : 5\n",
      "Entrez la largeur rectangle : 4\n",
      "L'aire du rectangle est :  20.0\n"
     ]
    }
   ],
   "source": [
    "Longueur = input(\"Entrez la longueur du rectangle : \")\n",
    "Largeur = input(\"Entrez la largeur rectangle : \")\n",
    "aire = float (Longueur)*float(Largeur)\n",
    "print(\"L'aire du rectangle est : \", aire)\n"
   ]
  },
  {
   "cell_type": "markdown",
   "id": "a7a17832",
   "metadata": {
    "id": "cf15844c"
   },
   "source": [
    "**Exercice 06:** \n",
    "> **Obtenez le rayon d'un cercle en utilisant l'invite. Calculez l'aire (aire = pi x r x r) et la circonférence (c = 2 x pi x r) où pi = 3,14.**"
   ]
  },
  {
   "cell_type": "code",
   "execution_count": 30,
   "id": "33c4cb8b",
   "metadata": {
    "id": "ee0ee85e"
   },
   "outputs": [
    {
     "name": "stdout",
     "output_type": "stream",
     "text": [
      "Entrez le rayon du cercle : 5\n",
      "L'aire du cercle est :  78.5\n",
      "La circonférence du cercle est :  31.400000000000002\n"
     ]
    }
   ],
   "source": [
    "pi = 3.14\n",
    "rayon = input(\"Entrez le rayon du cercle : \")\n",
    "aire_cercle = float(pi)*float(rayon)*float(rayon)\n",
    "c = (2)*float(pi)*float(rayon)\n",
    "print(\"L'aire du cercle est : \", aire_cercle)\n",
    "print(\"La circonférence du cercle est : \", c)\n"
   ]
  },
  {
   "cell_type": "markdown",
   "id": "ce2bc6ce",
   "metadata": {
    "id": "d9dec37a"
   },
   "source": [
    "**Exercice 07:**\n",
    "> **Calculez la pente, l'ordonnée à l'origine en x et l'ordonnée à l'origine en $y$ de $y = 2x -2$.**"
   ]
  },
  {
   "cell_type": "code",
   "execution_count": 37,
   "id": "38496517",
   "metadata": {
    "id": "203e449c"
   },
   "outputs": [
    {
     "name": "stdout",
     "output_type": "stream",
     "text": [
      "La pente est :  2.0\n",
      "L'ordonnée à l'origine est :  -2\n"
     ]
    }
   ],
   "source": [
    "\n",
    "x_1 = 0\n",
    "y = 2*x_1 - 2\n",
    "y_1 = y\n",
    "x_2 = 1\n",
    "y = 2*x_2 - 2\n",
    "y_2 = y\n",
    "y = 0\n",
    "pente = float(y_2-y_1)/ float (x_2-x_1)\n",
    "print(\"La pente est : \", pente)\n",
    "print(\"L'ordonnée à l'origine est : \" , y_1)\n",
    "\n"
   ]
  },
  {
   "cell_type": "markdown",
   "id": "3fc06b38",
   "metadata": {
    "id": "2f74d685"
   },
   "source": [
    "**Exercice 08:** \n",
    "> **Rédigez un script qui demande à l'utilisateur d'entrer les heures et le taux horaire. Calculez la rémunération de la personne ?**"
   ]
  },
  {
   "cell_type": "code",
   "execution_count": 38,
   "id": "69e03e62",
   "metadata": {
    "id": "7cff5a0a"
   },
   "outputs": [
    {
     "name": "stdout",
     "output_type": "stream",
     "text": [
      "Entrez l'heure : 21\n",
      "Entrez le taux horaire : 12\n",
      "La rénuméraion est  252.0\n"
     ]
    }
   ],
   "source": [
    "heure = input(\"Entrez l'heure : \")\n",
    "taux_horaire = input(\"Entrez le taux horaire : \")\n",
    "renumeration = float(heure)*float(taux_horaire)\n",
    "print(\"La rénuméraion est \", renumeration)"
   ]
  },
  {
   "cell_type": "markdown",
   "id": "503cfc9d",
   "metadata": {
    "id": "6ddd662c"
   },
   "source": [
    "**Exercice 09:** \n",
    "> **Écrivez un script qui demande à l'utilisateur d'entrer le nombre d'années. Calculez le nombre de secondes qu'une personne peut vivre. Supposons qu'une personne puisse vivre cent ans.**"
   ]
  },
  {
   "cell_type": "code",
   "execution_count": 7,
   "id": "d60de560",
   "metadata": {
    "id": "44c2a63c"
   },
   "outputs": [
    {
     "name": "stdout",
     "output_type": "stream",
     "text": [
      "Entrez le nombre d'année 14\n",
      "Le nombre de secondes que la personne peut vivre est  441504000.0 secondes\n"
     ]
    }
   ],
   "source": [
    "annee = input(\"Entrez le nombre d'année \")\n",
    "s = float(annee)*365*24*60*60\n",
    "print(\"Le nombre de secondes que la personne peut vivre est \",s, \"secondes\")\n"
   ]
  },
  {
   "cell_type": "markdown",
   "id": "9cbfca8c",
   "metadata": {
    "id": "9b253387"
   },
   "source": [
    "**Exercice 10:** \n",
    "> **Écrivez un script Python qui affiche le tableau suivant**\n",
    "\n",
    "    1 1 1 1 1\n",
    "    \n",
    "    2 1 2 4 8\n",
    "    \n",
    "    3 1 3 9 27\n",
    "    \n",
    "    4 1 4 16 64\n",
    "    \n",
    "    5 1 5 25 125"
   ]
  },
  {
   "cell_type": "code",
   "execution_count": 60,
   "id": "7ec18e86",
   "metadata": {
    "id": "aa2dae84"
   },
   "outputs": [
    {
     "name": "stdout",
     "output_type": "stream",
     "text": [
      "[1, 1, 1, 1, 1]\n",
      "[2, 1, 2, 4, 8]\n",
      "[3, 1, 3, 9, 27]\n",
      "[4, 1, 4, 16, 64]\n",
      "[5, 1, 5, 25, 125]\n"
     ]
    }
   ],
   "source": [
    "liste_1 = [1,1,1,1,1]\n",
    "liste_2 = [2,1,2,4,8]\n",
    "liste_3= [3,1,3,9,27]\n",
    "liste_4 = [4,1,4,16,64]\n",
    "liste_5 = [5,1,5,25,125]\n",
    "print (liste_1)\n",
    "print (liste_2)\n",
    "print (liste_3)\n",
    "print (liste_4)\n",
    "print (liste_5)\n"
   ]
  },
  {
   "cell_type": "markdown",
   "id": "78675435",
   "metadata": {
    "id": "953e7d8c"
   },
   "source": [
    "**Exercise 11:** \n",
    ">**Attribuez aux variables `temps` et `distance` les valeurs $6.892$ et $19.7$. Calculer et afficher la valeur de la vitesse. Améliorer l'affichage en imposant un chiffre après la virgule.**"
   ]
  },
  {
   "cell_type": "code",
   "execution_count": 62,
   "id": "da754b7c",
   "metadata": {
    "id": "6d787289"
   },
   "outputs": [
    {
     "name": "stdout",
     "output_type": "stream",
     "text": [
      "2.9\n"
     ]
    }
   ],
   "source": [
    "temps = 6.892\n",
    "distance = 19.7\n",
    "vitesse = float(distance)/float(temps)\n",
    "print(round(vitesse,1))"
   ]
  },
  {
   "cell_type": "markdown",
   "id": "c127d3c3",
   "metadata": {
    "id": "2d0f1ff9"
   },
   "source": [
    "**Exercice 12:** \n",
    "> **Écrire un programme qui, à partir de la saisie d’un rayon et d’une hauteur, calcule levolume d’un cône droit.**"
   ]
  },
  {
   "cell_type": "code",
   "execution_count": 70,
   "id": "1a671f88",
   "metadata": {
    "id": "969f5f68"
   },
   "outputs": [
    {
     "name": "stdout",
     "output_type": "stream",
     "text": [
      "Entrez le rayon : 2\n",
      "Entrez la hauteur : 4\n",
      "16.746666666666666\n"
     ]
    }
   ],
   "source": [
    "rayon = input (\"Entrez le rayon : \")\n",
    "hauteur = input (\"Entrez la hauteur : \")\n",
    "volume = (1/3)* 3.14 * float (rayon) * float (rayon) * float (hauteur)\n",
    "print(volume)"
   ]
  },
  {
   "cell_type": "markdown",
   "id": "9c3361c7",
   "metadata": {
    "id": "e9b3ce2a"
   },
   "source": [
    "**Exercise 13:** \n",
    "> **L'utilisateur donne un entier positif et le programme annonce combien de fois de suite cet entier est divisible par 2.**"
   ]
  },
  {
   "cell_type": "code",
   "execution_count": 10,
   "id": "bd3a0aad",
   "metadata": {
    "id": "5c8fea9a"
   },
   "outputs": [
    {
     "name": "stdout",
     "output_type": "stream",
     "text": [
      "Entrez un nombre : 8\n",
      "4\n"
     ]
    }
   ],
   "source": [
    "nbre = input (\"Entrez un nombre : \")\n",
    "cpt=0\n",
    "for i in range (1, int(nbre)+1):\n",
    "        if(i%2==0): \n",
    "            cpt=cpt+1\n",
    "print(cpt)\n",
    "    "
   ]
  },
  {
   "cell_type": "markdown",
   "id": "70f374fb",
   "metadata": {
    "id": "0485aed6"
   },
   "source": [
    "**Exercise 14:** \n",
    ">**L'utilisateur donne un nombre entier entre 2 et 12, le programme donne le nombre de façons de le faire en lançant deux dés.**"
   ]
  },
  {
   "cell_type": "code",
   "execution_count": 12,
   "id": "31fc5f3d",
   "metadata": {
    "id": "31f48a15"
   },
   "outputs": [
    {
     "name": "stdout",
     "output_type": "stream",
     "text": [
      "Entrez un entier compris entre 2 et 1213\n",
      "Entrez un entier compris entre 2 et 1210\n",
      "6\n"
     ]
    }
   ],
   "source": [
    "j=1\n",
    "cpt=0\n",
    "n=1\n",
    "while n<2 or n>12 :\n",
    "    n=int(input(\"Entrez un entier compris entre 2 et 12\"))\n",
    "for i in range (1,7):\n",
    "    while j<7:\n",
    "        if i+j:\n",
    "            cpt+=1\n",
    "        j+=1\n",
    "print(cpt)"
   ]
  },
  {
   "cell_type": "markdown",
   "id": "ffcfc1a8",
   "metadata": {
    "id": "cead0c8f"
   },
   "source": [
    "**Exercice 15:** \n",
    "> **Utilisez la fonction d'entrée intégrée `input()` pour obtenir le `_prénom_`, le `_nom_`, le `_pays_d_origine` et l'`_age_` d'un utilisateur et stockez la valeur dans les noms des variables correspondantes.**"
   ]
  },
  {
   "cell_type": "code",
   "execution_count": 77,
   "id": "abdb609a",
   "metadata": {
    "id": "0a2694a9"
   },
   "outputs": [
    {
     "name": "stdout",
     "output_type": "stream",
     "text": [
      "Entrez le prenom: esther\n",
      "Entrez le nom: djoi\n",
      "Entrez le pays d'origine : benin\n",
      "Entrez l'âge 22\n",
      "esther\n",
      "djoi\n",
      "benin\n",
      "22\n"
     ]
    }
   ],
   "source": [
    "prenom = input (\"Entrez le prenom: \")\n",
    "nom = input (\"Entrez le nom: \")\n",
    "pays_d_origine = input(\"Entrez le pays d'origine : \")\n",
    "age = input(\"Entrez l'âge \")\n",
    "print(prenom)\n",
    "print(nom)\n",
    "print(pays_d_origine)\n",
    "print(age)"
   ]
  },
  {
   "cell_type": "markdown",
   "id": "01335d0a",
   "metadata": {
    "id": "33240a56"
   },
   "source": [
    "**Exercice 16:** \n",
    "\n",
    "**Déclarer $5$ comme `num_one` et $4$ comme `num_two`**\n",
    "\n",
    "   1. Additionner `num_one` et `num_two` et affecter la valeur à une variable `totale`.\n",
    "   2. Soustraire `num_two` de `num_one` et affecter la valeur à une variable `diff`.\n",
    "   3. Multipliez le `num_one` et le `num_two` et attribuez la valeur à une variable `produit`.\n",
    "   4. Divisez le `num_one` par le `num_two` et attribuez la valeur à une variable `division`.\n",
    "   5. Calculez `num_one` à la puissance de `num_two` et attribuez la valeur à une variable `exp`."
   ]
  },
  {
   "cell_type": "code",
   "execution_count": 74,
   "id": "783d1d6c",
   "metadata": {
    "id": "c2f3e814"
   },
   "outputs": [
    {
     "name": "stdout",
     "output_type": "stream",
     "text": [
      "9\n",
      "-1\n",
      "20\n",
      "1.25\n",
      "625\n"
     ]
    }
   ],
   "source": [
    "num_one = 5\n",
    "num_two = 4\n",
    "totale = num_one+num_two\n",
    "diff = num_two-num_one\n",
    "produit = num_one * num_two\n",
    "division = num_one/num_two\n",
    "exp = int (num_one)**int(num_two)\n",
    "print(totale)\n",
    "print(diff)\n",
    "print(produit)\n",
    "print(division)\n",
    "print(exp)\n"
   ]
  },
  {
   "cell_type": "markdown",
   "id": "8eda1293",
   "metadata": {
    "id": "80763237"
   },
   "source": [
    "<center> <b> <span style=\"color:orange;\"> 🎉 FÉLICITATIONS! 🎉 </span> </b></center>"
   ]
  }
 ],
 "metadata": {
  "colab": {
   "collapsed_sections": [],
   "name": "In2Py_TP_01.ipynb",
   "provenance": []
  },
  "kernelspec": {
   "display_name": "Python 3 (ipykernel)",
   "language": "python",
   "name": "python3"
  },
  "language_info": {
   "codemirror_mode": {
    "name": "ipython",
    "version": 3
   },
   "file_extension": ".py",
   "mimetype": "text/x-python",
   "name": "python",
   "nbconvert_exporter": "python",
   "pygments_lexer": "ipython3",
   "version": "3.8.10"
  }
 },
 "nbformat": 4,
 "nbformat_minor": 5
}
